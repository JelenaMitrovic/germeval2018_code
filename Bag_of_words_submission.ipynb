{
 "cells": [
  {
   "cell_type": "code",
   "execution_count": 1,
   "metadata": {},
   "outputs": [],
   "source": [
    "%matplotlib notebook\n",
    "import warnings\n",
    "import numpy as np\n",
    "\n",
    "# Prevents warnings during cross-validation\n",
    "warnings.filterwarnings(\"ignore\")\n",
    "\n",
    "# Number of folds during cross-validation\n",
    "k = 7\n",
    "\n",
    "# Number of parallel computations (n_jobs parameter); -1 for utilizing the entire cpu\n",
    "jobs = -1\n",
    "\n",
    "# Pseudo-random number generator seed, for reproduceable results\n",
    "seed = 42"
   ]
  },
  {
   "cell_type": "code",
   "execution_count": 2,
   "metadata": {},
   "outputs": [],
   "source": [
    "def predictions_to_txt(filename, X_test, y_pred):\n",
    "    i=0\n",
    "    results = []\n",
    "    for x in X_test:\n",
    "        line = []\n",
    "        line.append(x)\n",
    "        if y_pred[i] == 1:\n",
    "            line.append('OFFENSE')\n",
    "        else:\n",
    "            line.append('OTHER')\n",
    "        line.append('OTHER')\n",
    "        i += 1\n",
    "        results.append(line)\n",
    "\n",
    "    predictions = results\n",
    "    np.savetxt(filename, predictions, fmt=['%s', '%s', '%s'], delimiter='\\t', newline='\\n', \\\n",
    "                  header='', footer='', encoding='utf-8')"
   ]
  },
  {
   "cell_type": "code",
   "execution_count": 3,
   "metadata": {},
   "outputs": [],
   "source": [
    "def so_load_data(path):\n",
    "    with open(path) as f:\n",
    "        content = f.read().splitlines()\n",
    "    # you may also want to remove whitespace characters like \\n at the end of each line\n",
    "    return [x.rstrip('\\\\n') for x in content]"
   ]
  },
  {
   "cell_type": "code",
   "execution_count": 4,
   "metadata": {},
   "outputs": [],
   "source": [
    "import pandas as pd\n",
    "import codecs\n",
    "from tqdm import tqdm\n",
    "\n",
    "def load_dataset(path):\n",
    "    dataset = pd.DataFrame(columns=['X', 'y1', 'y2'])\n",
    "    #print('Loading dataset...')\n",
    "    with codecs.open(path, \"r\", encoding='utf-8', errors='ignore') as fdata:\n",
    "        for line in tqdm(fdata.readlines()):\n",
    "            line_split = line.split()\n",
    "            formated = ' '.join(line_split[:-2])\n",
    "            dataset.loc[-1] = [formated, line_split[-2], line_split[-1]]  # adding a row\n",
    "            dataset.index = dataset.index + 1  # shifting index\n",
    "            dataset = dataset.sort_index()  # sorting by index\n",
    "    return dataset"
   ]
  },
  {
   "cell_type": "code",
   "execution_count": 5,
   "metadata": {},
   "outputs": [
    {
     "name": "stderr",
     "output_type": "stream",
     "text": [
      "100%|██████████| 5009/5009 [00:14<00:00, 342.76it/s]\n"
     ]
    }
   ],
   "source": [
    "dataset = load_dataset(path = '/home/text_mining_project/text_mining_project_2018/evaluation/germeval2018.training.txt')"
   ]
  },
  {
   "cell_type": "code",
   "execution_count": 6,
   "metadata": {},
   "outputs": [],
   "source": [
    "X_train = dataset['X'].values\n",
    "y_train = dataset['y1'].values\n",
    "\n",
    "X_test = so_load_data(path = '/home/text_mining_project/germeval2018.test.txt')\n",
    "X_test_raw = X_test"
   ]
  },
  {
   "cell_type": "code",
   "execution_count": 7,
   "metadata": {},
   "outputs": [],
   "source": [
    "from nltk.tokenize import TweetTokenizer\n",
    "from nltk.stem import SnowballStemmer\n",
    "from nltk.corpus import stopwords\n",
    "import re\n",
    "\n",
    "stopwords_german = set(stopwords.words('german'))\n",
    "\n",
    "usernamePattern = re.compile('@[A-Za-z0-9_]{1,15}')\n",
    "urlPattern = re.compile('(https?:\\/\\/)[\\/.:\\w(1-9)]*\\s?')\n",
    "andPattern = re.compile('&amp;')\n",
    "lbrPattern = re.compile('|LBR|')\n",
    "gtPattern = re.compile('&gt;')\n",
    "ltPattern = re.compile('&lt;')\n",
    "minusPattern = re.compile('-')\n",
    "stemmer = SnowballStemmer(\"german\")\n",
    "tkz = TweetTokenizer(preserve_case=False, reduce_len=True, strip_handles=True)\n",
    "\n",
    "def tokenize(text):\n",
    "    text = re.sub(usernamePattern, \"\",  text)\n",
    "    text = re.sub(urlPattern, \"\",  text)\n",
    "    text = re.sub(andPattern, \"und\", text)\n",
    "    text = re.sub(lbrPattern, \"\",  text)\n",
    "    text = re.sub(gtPattern, \">\", text)\n",
    "    text = re.sub(ltPattern, \"<\", text)\n",
    "    text = re.sub(minusPattern, ' ', text)\n",
    "    output = []\n",
    "    tokens = tkz.tokenize(text)\n",
    "    for token in tokens:\n",
    "        #if token not in stopwords_german:\n",
    "        if len(token) > 1:\n",
    "            if token[0] == '#':\n",
    "                token = token[1:]\n",
    "            # output.append(stemmer.stem(token))\n",
    "            output.append(token)\n",
    "    return output"
   ]
  },
  {
   "cell_type": "code",
   "execution_count": 8,
   "metadata": {},
   "outputs": [
    {
     "name": "stdout",
     "output_type": "stream",
     "text": [
      "Transforming documents...\n",
      "Transformation finished!\n"
     ]
    }
   ],
   "source": [
    "from sklearn.feature_extraction.text import TfidfVectorizer\n",
    "\n",
    "max_features = None\n",
    "stopwords_german = set(stopwords.words('german'))\n",
    "tfidf = TfidfVectorizer(tokenizer=tokenize, stop_words=stopwords_german, max_features=max_features, ngram_range=(1,3))\n",
    "print('Transforming documents...')\n",
    "X_train = tfidf.fit_transform(X_train)\n",
    "X_test = tfidf.transform(X_test)\n",
    "print('Transformation finished!')"
   ]
  },
  {
   "cell_type": "code",
   "execution_count": 9,
   "metadata": {},
   "outputs": [],
   "source": [
    "def encode_label(y):\n",
    "    np.ones(len(y))\n",
    "    choose = lambda l : 1 if l == 'OFFENSE' else 0\n",
    "    return [choose(l) for l in y]"
   ]
  },
  {
   "cell_type": "code",
   "execution_count": 10,
   "metadata": {},
   "outputs": [
    {
     "name": "stdout",
     "output_type": "stream",
     "text": [
      "\n"
     ]
    }
   ],
   "source": [
    "y_train = encode_label(y_train)\n",
    "print()"
   ]
  },
  {
   "cell_type": "code",
   "execution_count": 11,
   "metadata": {},
   "outputs": [],
   "source": [
    "from sklearn.svm import LinearSVC\n",
    "from sklearn.feature_selection import SelectFromModel\n",
    "\n",
    "#lsvc = LinearSVC(penalty=\"l1\", dual=False).fit(X_train, y_train)\n",
    "#model = SelectFromModel(lsvc, prefit=True)\n",
    "#X_train = model.transform(X_train)\n",
    "#X_test = model.transform(X_test)"
   ]
  },
  {
   "cell_type": "code",
   "execution_count": 12,
   "metadata": {},
   "outputs": [],
   "source": [
    "from sklearn.svm import LinearSVC\n",
    "clf = LinearSVC(C=3, class_weight=None, dual=False, fit_intercept=False,\n",
    "     intercept_scaling=0.1, loss='squared_hinge', max_iter=10,\n",
    "     multi_class='ovr', penalty='l1', random_state=42, tol=0.0001,\n",
    "     verbose=0)\n",
    "clf.fit(X_train, y_train)\n",
    "y_pred = clf.predict(X_test)"
   ]
  },
  {
   "cell_type": "code",
   "execution_count": 13,
   "metadata": {},
   "outputs": [],
   "source": [
    "#from sklearn.naive_bayes import BernoulliNB\n",
    "#clf = BernoulliNB()\n",
    "#clf.fit(X_train, y_train)\n",
    "#y_pred = clf.predict(X_test)"
   ]
  },
  {
   "cell_type": "code",
   "execution_count": 14,
   "metadata": {},
   "outputs": [],
   "source": [
    "predictions_to_txt('upInf_coarse_1.txt', X_test_raw, y_pred)"
   ]
  },
  {
   "cell_type": "code",
   "execution_count": null,
   "metadata": {},
   "outputs": [],
   "source": []
  }
 ],
 "metadata": {
  "kernelspec": {
   "display_name": "Python 3",
   "language": "python",
   "name": "python3"
  },
  "language_info": {
   "codemirror_mode": {
    "name": "ipython",
    "version": 3
   },
   "file_extension": ".py",
   "mimetype": "text/x-python",
   "name": "python",
   "nbconvert_exporter": "python",
   "pygments_lexer": "ipython3",
   "version": "3.5.2"
  }
 },
 "nbformat": 4,
 "nbformat_minor": 2
}
