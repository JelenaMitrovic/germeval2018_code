{
 "cells": [
  {
   "cell_type": "markdown",
   "metadata": {},
   "source": [
    "# TF-IDF test-split"
   ]
  },
  {
   "cell_type": "code",
   "execution_count": 5,
   "metadata": {},
   "outputs": [],
   "source": [
    "%matplotlib notebook\n",
    "import warnings\n",
    "import numpy as np\n",
    "\n",
    "# Prevents warnings during cross-validation\n",
    "warnings.filterwarnings(\"ignore\")\n",
    "\n",
    "# Number of folds during cross-validation\n",
    "k = 7\n",
    "\n",
    "# Number of parallel computations (n_jobs parameter); -1 for utilizing the entire cpu\n",
    "jobs = -1\n",
    "\n",
    "# Pseudo-random number generator seed, for reproduceable results\n",
    "seed = 42"
   ]
  },
  {
   "cell_type": "code",
   "execution_count": 6,
   "metadata": {},
   "outputs": [],
   "source": [
    "def so_load_data(path):\n",
    "    with open(path) as f:\n",
    "        content = f.read().splitlines()\n",
    "    # you may also want to remove whitespace characters like \\n at the end of each line\n",
    "    return [x.rstrip('\\\\n') for x in content]"
   ]
  },
  {
   "cell_type": "code",
   "execution_count": 7,
   "metadata": {},
   "outputs": [],
   "source": [
    "import pandas as pd\n",
    "import codecs\n",
    "from tqdm import tqdm\n",
    "\n",
    "def load_dataset(path):\n",
    "    dataset = pd.DataFrame(columns=['X', 'y1', 'y2'])\n",
    "    #print('Loading dataset...')\n",
    "    with codecs.open(path, \"r\", encoding='utf-8', errors='ignore') as fdata:\n",
    "        for line in tqdm(fdata.readlines()):\n",
    "            line_split = line.split()\n",
    "            formated = ' '.join(line_split[:-2])\n",
    "            dataset.loc[-1] = [formated, line_split[-2], line_split[-1]]  # adding a row\n",
    "            dataset.index = dataset.index + 1  # shifting index\n",
    "            dataset = dataset.sort_index()  # sorting by index\n",
    "    return dataset"
   ]
  },
  {
   "cell_type": "code",
   "execution_count": 8,
   "metadata": {},
   "outputs": [
    {
     "name": "stderr",
     "output_type": "stream",
     "text": [
      "100%|██████████| 5009/5009 [00:17<00:00, 290.78it/s]\n"
     ]
    }
   ],
   "source": [
    "from sklearn.utils import shuffle\n",
    "\n",
    "dataset = load_dataset(path = '/home/text_mining_project/text_mining_project_2018/evaluation/germeval2018.training.txt')\n"
   ]
  },
  {
   "cell_type": "code",
   "execution_count": 5,
   "metadata": {},
   "outputs": [],
   "source": [
    "from sklearn.model_selection import train_test_split\n",
    "X = dataset['X'].values\n",
    "y = dataset['y1'].values\n",
    "\n",
    "X_train, X_test, y_train, y_test = train_test_split(X, y, test_size=0.1, random_state=42)"
   ]
  },
  {
   "cell_type": "code",
   "execution_count": 6,
   "metadata": {},
   "outputs": [],
   "source": [
    "from nltk.tokenize import TweetTokenizer\n",
    "from nltk.stem import SnowballStemmer\n",
    "from nltk.corpus import stopwords\n",
    "import re\n",
    "\n",
    "stopwords_german = set(stopwords.words('german'))\n",
    "\n",
    "usernamePattern = re.compile('@[A-Za-z0-9_]{1,15}')\n",
    "urlPattern = re.compile('(https?:\\/\\/)[\\/.:\\w(1-9)]*\\s?')\n",
    "andPattern = re.compile('&amp;')\n",
    "lbrPattern = re.compile('|LBR|')\n",
    "gtPattern = re.compile('&gt;')\n",
    "ltPattern = re.compile('&lt;')\n",
    "minusPattern = re.compile('-')\n",
    "stemmer = SnowballStemmer(\"german\")\n",
    "tkz = TweetTokenizer(preserve_case=False, reduce_len=True, strip_handles=True)\n",
    "\n",
    "def tokenize(text):\n",
    "    text = re.sub(usernamePattern, \"\",  text)\n",
    "    text = re.sub(urlPattern, \"\",  text)\n",
    "    text = re.sub(andPattern, \"und\", text)\n",
    "    text = re.sub(lbrPattern, \"\",  text)\n",
    "    text = re.sub(gtPattern, \">\", text)\n",
    "    text = re.sub(ltPattern, \"<\", text)\n",
    "    text = re.sub(minusPattern, ' ', text)\n",
    "    output = []\n",
    "    tokens = tkz.tokenize(text)\n",
    "    for token in tokens:\n",
    "        #if token not in stopwords_german:\n",
    "        if len(token) > 1:\n",
    "            if token[0] == '#':\n",
    "                token = token[1:]\n",
    "            # output.append(stemmer.stem(token))\n",
    "            output.append(token)\n",
    "    return output"
   ]
  },
  {
   "cell_type": "code",
   "execution_count": 7,
   "metadata": {},
   "outputs": [
    {
     "name": "stdout",
     "output_type": "stream",
     "text": [
      "Transforming documents...\n",
      "Transformation finished!\n"
     ]
    }
   ],
   "source": [
    "from sklearn.feature_extraction.text import TfidfVectorizer\n",
    "\n",
    "max_features = None\n",
    "stopwords_german = set(stopwords.words('german'))\n",
    "tfidf = TfidfVectorizer(tokenizer=tokenize, stop_words=stopwords_german, max_features=max_features, ngram_range=(1,3))\n",
    "print('Transforming documents...')\n",
    "X_train = tfidf.fit_transform(X_train)\n",
    "X_test = tfidf.transform(X_test)\n",
    "print('Transformation finished!')"
   ]
  },
  {
   "cell_type": "code",
   "execution_count": 8,
   "metadata": {},
   "outputs": [],
   "source": [
    "from sklearn.preprocessing import LabelEncoder\n",
    "\n",
    "def encode_label(y):\n",
    "    np.ones(len(y))\n",
    "    choose = lambda l : 1 if l == 'OFFENSE' else 0\n",
    "    return [choose(l) for l in y]"
   ]
  },
  {
   "cell_type": "code",
   "execution_count": 9,
   "metadata": {},
   "outputs": [
    {
     "name": "stdout",
     "output_type": "stream",
     "text": [
      "\n"
     ]
    }
   ],
   "source": [
    "y_train = encode_label(y_train)\n",
    "y_test = encode_label(y_test)\n",
    "print()"
   ]
  },
  {
   "cell_type": "code",
   "execution_count": 10,
   "metadata": {},
   "outputs": [],
   "source": [
    "from sklearn.svm import LinearSVC\n",
    "from sklearn.feature_selection import SelectFromModel\n",
    "\n",
    "#lsvc = LinearSVC(penalty=\"l1\", dual=False).fit(X_train, y_train)\n",
    "#model = SelectFromModel(lsvc, prefit=True)\n",
    "#X_train = model.transform(X_train)\n",
    "#X_test = model.transform(X_test)"
   ]
  },
  {
   "cell_type": "code",
   "execution_count": 11,
   "metadata": {
    "scrolled": true
   },
   "outputs": [
    {
     "name": "stdout",
     "output_type": "stream",
     "text": [
      "Searching best estimator...\n",
      "\n",
      "Mean accuracy Linear SVM: 0.707 (+/- 0.022)\n",
      "Mean accuracy SGDClassifier: 0.723 (+/- 0.037)\n",
      "Mean accuracy BernoulliNB: 0.665 (+/- 0.008)\n",
      "Mean accuracy LogisticRegression: 0.669 (+/- 0.006)\n",
      "Mean accuracy KNeighborsClassifier: 0.697 (+/- 0.019)\n",
      "Mean accuracy AdaBoostClassifier: 0.720 (+/- 0.024)\n",
      "Mean accuracy Random Forest: 0.699 (+/- 0.009)\n",
      "Mean accuracy Decision Tree: 0.695 (+/- 0.036)\n",
      "\n",
      "Best estimator: SGDClassifier (mean acc 0.723, 7-fold cross-validation)\n"
     ]
    }
   ],
   "source": [
    "from sklearn.svm import LinearSVC\n",
    "from sklearn.linear_model import LogisticRegression\n",
    "from sklearn.naive_bayes import BernoulliNB\n",
    "from sklearn.neighbors import KNeighborsClassifier\n",
    "from sklearn.ensemble import RandomForestClassifier,AdaBoostClassifier\n",
    "from sklearn.tree import DecisionTreeClassifier\n",
    "from sklearn.linear_model import  SGDClassifier\n",
    "\n",
    "from sklearn.model_selection import cross_val_score\n",
    "\n",
    "\n",
    "names = [\"Linear SVM\", \"SGDClassifier\", \"BernoulliNB\", \"LogisticRegression\",\n",
    "         \"KNeighborsClassifier\", \"AdaBoostClassifier\", \"Random Forest\", \"Decision Tree\"]\n",
    "\n",
    "classifiers = [\n",
    "    LinearSVC(random_state=seed),\n",
    "    SGDClassifier(),\n",
    "    BernoulliNB(),\n",
    "    LogisticRegression(random_state=seed, solver='sag', max_iter=1000),\n",
    "    KNeighborsClassifier(),\n",
    "    AdaBoostClassifier(),\n",
    "    RandomForestClassifier(random_state=seed),\n",
    "    DecisionTreeClassifier(random_state=seed)\n",
    "]\n",
    "\n",
    "print('Searching best estimator...')\n",
    "print()\n",
    "best_classifier = None\n",
    "for name, clf in zip(names, classifiers):\n",
    "    scores = cross_val_score(clf, X_train, y_train, cv=k, n_jobs=jobs)\n",
    "    print('Mean accuracy %s: %0.3f (+/- %0.3f)' % (name, scores.mean(), scores.std() * 2))\n",
    "    if not best_classifier:\n",
    "        best_classifier = (name, scores.mean())\n",
    "    else:\n",
    "        if best_classifier[1] < scores.mean():\n",
    "            best_classifier = (name, scores.mean())\n",
    "print()\n",
    "print('Best estimator: %s (mean acc %0.3f, %d-fold cross-validation)' % (best_classifier[0], best_classifier[1], k))"
   ]
  },
  {
   "cell_type": "code",
   "execution_count": 12,
   "metadata": {
    "scrolled": true
   },
   "outputs": [
    {
     "name": "stdout",
     "output_type": "stream",
     "text": [
      "Searching best estimator (F1 score) ...\n",
      "\n",
      "Mean F1 score Linear SVM: 0.303 (+/- 0.074)\n",
      "Mean F1 score SGDClassifier: 0.411 (+/- 0.090)\n",
      "Mean F1 score BernoulliNB: 0.069 (+/- 0.033)\n",
      "Mean F1 score LogisticRegression: 0.048 (+/- 0.025)\n",
      "Mean F1 score KNeighborsClassifier: 0.263 (+/- 0.140)\n",
      "Mean F1 score AdaBoostClassifier: 0.436 (+/- 0.041)\n",
      "Mean F1 score Random Forest: 0.239 (+/- 0.044)\n",
      "Mean F1 score Decision Tree: 0.510 (+/- 0.052)\n",
      "\n",
      "Best estimator: Decision Tree (mean F1 score 0.510, 7-fold cross-validation)\n"
     ]
    }
   ],
   "source": [
    "from sklearn.metrics import f1_score\n",
    "from sklearn.metrics import make_scorer\n",
    "\n",
    "print('Searching best estimator (F1 score) ...')\n",
    "print()\n",
    "best_classifier = None\n",
    "for name, clf in zip(names, classifiers):\n",
    "    scores = cross_val_score(clf, X_train, y_train, cv=k, n_jobs=jobs, scoring='f1')\n",
    "    print('Mean F1 score %s: %0.3f (+/- %0.3f)' % (name, scores.mean(), scores.std() * 2))\n",
    "    if not best_classifier:\n",
    "        best_classifier = (name, scores.mean())\n",
    "    else:\n",
    "        if best_classifier[1] < scores.mean():\n",
    "            best_classifier = (name, scores.mean())\n",
    "print()\n",
    "print('Best estimator: %s (mean F1 score %0.3f, %d-fold cross-validation)' % (best_classifier[0], best_classifier[1], k))"
   ]
  },
  {
   "cell_type": "code",
   "execution_count": null,
   "metadata": {},
   "outputs": [],
   "source": []
  },
  {
   "cell_type": "markdown",
   "metadata": {},
   "source": [
    "---"
   ]
  },
  {
   "cell_type": "markdown",
   "metadata": {},
   "source": [
    "### Test\n",
    "Test our classifier splitting training data in train and test set"
   ]
  },
  {
   "cell_type": "code",
   "execution_count": 9,
   "metadata": {},
   "outputs": [],
   "source": [
    "from nltk.tokenize import TweetTokenizer\n",
    "from nltk.stem import SnowballStemmer\n",
    "from nltk.corpus import stopwords\n",
    "\n",
    "def tokenize(text):\n",
    "    tkz = TweetTokenizer(preserve_case=False, reduce_len=True, strip_handles=True)\n",
    "    stemmer = SnowballStemmer(\"german\")\n",
    "    output = []\n",
    "    tokens = tkz.tokenize(text)\n",
    "    for token in tokens:\n",
    "        if len(token) > 1:\n",
    "            if token[0] == '#':\n",
    "                token = token[1:]\n",
    "            output.append(stemmer.stem(token))\n",
    "    return output"
   ]
  },
  {
   "cell_type": "code",
   "execution_count": 10,
   "metadata": {},
   "outputs": [],
   "source": [
    "from sklearn.model_selection import train_test_split\n",
    "from sklearn.preprocessing import LabelEncoder\n",
    "\n",
    "\n",
    "X = dataset['X'].values\n",
    "y = dataset['y1'].values\n",
    "\n",
    "lb = LabelEncoder()\n",
    "lb.fit(['OFFENSE','OTHER'])\n",
    "y = np.ones(len(y)) - lb.transform(y)\n",
    "\n",
    "X_train, X_test, y_train, y_test = train_test_split(X, y, test_size=0.1, random_state=42)"
   ]
  },
  {
   "cell_type": "code",
   "execution_count": 11,
   "metadata": {},
   "outputs": [
    {
     "name": "stdout",
     "output_type": "stream",
     "text": [
      "Transforming documents...\n",
      "Transformation finished!\n"
     ]
    }
   ],
   "source": [
    "from sklearn.feature_extraction.text import TfidfVectorizer\n",
    "\n",
    "stopwords_german = set(stopwords.words('german'))\n",
    "tfidf = TfidfVectorizer(tokenizer=tokenize, stop_words=stopwords_german, ngram_range=(1,3))\n",
    "print('Transforming documents...')\n",
    "X_train = tfidf.fit_transform(X_train)\n",
    "X_test = tfidf.transform(X_test)\n",
    "print('Transformation finished!')"
   ]
  },
  {
   "cell_type": "code",
   "execution_count": 12,
   "metadata": {},
   "outputs": [
    {
     "name": "stdout",
     "output_type": "stream",
     "text": [
      "F1-Score predictions SGDClassifier:  0.6357615894039734\n"
     ]
    }
   ],
   "source": [
    "from sklearn.linear_model import  SGDClassifier\n",
    "clf = SGDClassifier()\n",
    "clf.fit(X_train, y_train)\n",
    "predictions=clf.predict(X_test)\n",
    "from sklearn.metrics import f1_score\n",
    "f1=f1_score(predictions, y_test)\n",
    "print(\"F1-Score predictions SGDClassifier: \", f1)"
   ]
  },
  {
   "cell_type": "code",
   "execution_count": 16,
   "metadata": {},
   "outputs": [
    {
     "name": "stdout",
     "output_type": "stream",
     "text": [
      "Accuracy predictions SGDClassifier:  0.7784431137724551\n"
     ]
    }
   ],
   "source": [
    "from sklearn.linear_model import  SGDClassifier\n",
    "clf = SGDClassifier()\n",
    "clf.fit(X_train, y_train)\n",
    "predictions=clf.predict(X_test)\n",
    "from sklearn.metrics import accuracy_score\n",
    "acc=accuracy_score(predictions, y_test)\n",
    "print(\"Accuracy predictions SGDClassifier: \", acc)"
   ]
  },
  {
   "cell_type": "code",
   "execution_count": 13,
   "metadata": {},
   "outputs": [
    {
     "name": "stdout",
     "output_type": "stream",
     "text": [
      "F1-Score predictions SGDClassifier:  0.628099173553719\n"
     ]
    }
   ],
   "source": [
    "from sklearn.linear_model import  SGDClassifier\n",
    "clf = SGDClassifier(alpha=0.0001, average=False, class_weight=None, epsilon=0.1,\n",
    "       eta0=0.0, fit_intercept=True, l1_ratio=0.15,\n",
    "       learning_rate='optimal', loss='squared_hinge', max_iter=5,\n",
    "       n_iter=None, n_jobs=1, penalty='l1', power_t=0.5, random_state=42,\n",
    "       shuffle=False, tol=None, verbose=0, warm_start=False)\n",
    "clf.fit(X_train, y_train)\n",
    "predictions=clf.predict(X_test)\n",
    "from sklearn.metrics import f1_score\n",
    "f1=f1_score(predictions, y_test)\n",
    "print(\"F1-Score predictions SGDClassifier: \", f1)"
   ]
  },
  {
   "cell_type": "code",
   "execution_count": 18,
   "metadata": {},
   "outputs": [],
   "source": [
    "from sklearn.svm import LinearSVC\n",
    "from sklearn.feature_selection import SelectFromModel\n",
    "\n",
    "\n",
    "lsvc = LinearSVC(penalty=\"l1\", dual=False).fit(X_train, y_train)\n",
    "model = SelectFromModel(lsvc, prefit=True)\n",
    "X_train = model.transform(X_train)\n",
    "X_test = model.transform(X_test)"
   ]
  },
  {
   "cell_type": "code",
   "execution_count": 19,
   "metadata": {},
   "outputs": [
    {
     "name": "stdout",
     "output_type": "stream",
     "text": [
      "F1-Score predictions SGDClassifier:  0.5912408759124088\n"
     ]
    }
   ],
   "source": [
    "from sklearn.linear_model import  SGDClassifier\n",
    "clf = SGDClassifier()\n",
    "clf.fit(X_train, y_train)\n",
    "predictions=clf.predict(X_test)\n",
    "from sklearn.metrics import f1_score\n",
    "f1=f1_score(predictions, y_test)\n",
    "print(\"F1-Score predictions SGDClassifier: \", f1)"
   ]
  },
  {
   "cell_type": "code",
   "execution_count": 20,
   "metadata": {},
   "outputs": [],
   "source": [
    "from sklearn.linear_model import  SGDClassifier\n",
    "clf = SGDClassifier(alpha=1e-05, average=False, class_weight=None, epsilon=0.1,\n",
    "           eta0=0.0, fit_intercept=True, l1_ratio=0.15,\n",
    "           learning_rate='optimal', loss='modified_huber', max_iter=3000,\n",
    "           n_iter=None, n_jobs=1, penalty='none', power_t=0.5, random_state=42,\n",
    "           shuffle=True, tol=None, verbose=0, warm_start=False)\n",
    "clf.fit(X_train, y_train)\n",
    "predictions=clf.predict(X_test)\n"
   ]
  },
  {
   "cell_type": "code",
   "execution_count": 21,
   "metadata": {},
   "outputs": [
    {
     "name": "stdout",
     "output_type": "stream",
     "text": [
      "F1-Score predictions SGDClassifier:  0.6149584487534626\n"
     ]
    }
   ],
   "source": [
    "from sklearn.metrics import f1_score\n",
    "f1=f1_score(predictions, y_test)\n",
    "print(\"F1-Score predictions SGDClassifier: \", f1)"
   ]
  },
  {
   "cell_type": "code",
   "execution_count": 22,
   "metadata": {},
   "outputs": [
    {
     "name": "stdout",
     "output_type": "stream",
     "text": [
      "Accuracy-Score predictions SGDClassifier:  0.7225548902195609\n"
     ]
    }
   ],
   "source": [
    "from sklearn.metrics import accuracy_score\n",
    "accuracy = accuracy_score(predictions, y_test)\n",
    "print(\"Accuracy-Score predictions SGDClassifier: \", accuracy)"
   ]
  },
  {
   "cell_type": "code",
   "execution_count": null,
   "metadata": {},
   "outputs": [],
   "source": []
  }
 ],
 "metadata": {
  "kernelspec": {
   "display_name": "Python 3",
   "language": "python",
   "name": "python3"
  },
  "language_info": {
   "codemirror_mode": {
    "name": "ipython",
    "version": 3
   },
   "file_extension": ".py",
   "mimetype": "text/x-python",
   "name": "python",
   "nbconvert_exporter": "python",
   "pygments_lexer": "ipython3",
   "version": "3.5.2"
  },
  "widgets": {
   "application/vnd.jupyter.widget-state+json": {
    "state": {
     "017e22435bbb403eb20038a732667508": {
      "model_module": "@jupyter-widgets/base",
      "model_module_version": "1.0.0",
      "model_name": "LayoutModel",
      "state": {}
     },
     "01b0de5febd24f5ea7cb630bd5893fa5": {
      "model_module": "@jupyter-widgets/controls",
      "model_module_version": "1.2.0",
      "model_name": "IntProgressModel",
      "state": {
       "description": "Epoch 16",
       "layout": "IPY_MODEL_46d68400e4574d98a5015751b5713bb9",
       "max": 7769,
       "style": "IPY_MODEL_33bb7e3e9ffe4f9d850a1b7ed866b49e",
       "value": 7769
      }
     },
     "01b31e0d7b934986b2c669e59ee5ba5a": {
      "model_module": "@jupyter-widgets/controls",
      "model_module_version": "1.2.0",
      "model_name": "IntProgressModel",
      "state": {
       "description": "Epoch 48",
       "layout": "IPY_MODEL_7c5661fdc0934e3c81b30fd48572aa96",
       "max": 7769,
       "style": "IPY_MODEL_35eac8fc4fe248279c83813bf00abcce",
       "value": 7769
      }
     },
     "035ca924d4974d6b8665f66a86d32497": {
      "model_module": "@jupyter-widgets/controls",
      "model_module_version": "1.2.0",
      "model_name": "ProgressStyleModel",
      "state": {
       "description_width": ""
      }
     },
     "0523741a8e0e47639fe97fd5e0d443f9": {
      "model_module": "@jupyter-widgets/base",
      "model_module_version": "1.0.0",
      "model_name": "LayoutModel",
      "state": {}
     },
     "054a612fe6214f4381e960f17fe63c69": {
      "model_module": "@jupyter-widgets/controls",
      "model_module_version": "1.2.0",
      "model_name": "IntProgressModel",
      "state": {
       "description": "Epoch 40",
       "layout": "IPY_MODEL_c9c337aec5ad4a91b1802a465512797e",
       "max": 7769,
       "style": "IPY_MODEL_3ce3d098f3d04b54a04748509640081b",
       "value": 7769
      }
     },
     "0566d05e3ce84f00ae7f9105d73ef4c4": {
      "model_module": "@jupyter-widgets/controls",
      "model_module_version": "1.2.0",
      "model_name": "DescriptionStyleModel",
      "state": {
       "description_width": ""
      }
     },
     "06c7fdd5295e4240a4c743cb49460349": {
      "model_module": "@jupyter-widgets/base",
      "model_module_version": "1.0.0",
      "model_name": "LayoutModel",
      "state": {}
     },
     "06fedd445baf49cc8b742c04a641bb8e": {
      "model_module": "@jupyter-widgets/base",
      "model_module_version": "1.0.0",
      "model_name": "LayoutModel",
      "state": {}
     },
     "08e82c3a23fb4fed9b83560d7170cb5d": {
      "model_module": "@jupyter-widgets/base",
      "model_module_version": "1.0.0",
      "model_name": "LayoutModel",
      "state": {}
     },
     "0972bb2213684c529a3e912a1f277fc6": {
      "model_module": "@jupyter-widgets/controls",
      "model_module_version": "1.2.0",
      "model_name": "HTMLModel",
      "state": {
       "layout": "IPY_MODEL_3fa741d2049d4ccfb021f2622d5f1256",
       "style": "IPY_MODEL_baf24443469442ac92d1037bbe694a99",
       "value": "[loss: 0.006, acc: 0.998] : 100% 7769/7769 [00:12&lt;00:00, 615.99it/s]"
      }
     },
     "0a6791bc18cb41f395670df97e151f6f": {
      "model_module": "@jupyter-widgets/controls",
      "model_module_version": "1.2.0",
      "model_name": "ProgressStyleModel",
      "state": {
       "description_width": ""
      }
     },
     "0a9bbf0175fb40ee8cade215efde1ec5": {
      "model_module": "@jupyter-widgets/base",
      "model_module_version": "1.0.0",
      "model_name": "LayoutModel",
      "state": {}
     },
     "0ac779bcde5240dd9c87653fba3060bf": {
      "model_module": "@jupyter-widgets/controls",
      "model_module_version": "1.2.0",
      "model_name": "HTMLModel",
      "state": {
       "layout": "IPY_MODEL_95133d365cf34f378c1334a27329d143",
       "style": "IPY_MODEL_8959a218c9db4314a980e59752498ba7",
       "value": "[loss: 0.001, acc: 1.000] : 100% 7769/7769 [00:12&lt;00:00, 577.20it/s]"
      }
     },
     "0b0242125df64612825b2584cd560fe0": {
      "model_module": "@jupyter-widgets/base",
      "model_module_version": "1.0.0",
      "model_name": "LayoutModel",
      "state": {}
     },
     "0b6a166d22324a83969e1c7fd7985fc1": {
      "model_module": "@jupyter-widgets/controls",
      "model_module_version": "1.2.0",
      "model_name": "IntProgressModel",
      "state": {
       "description": "Epoch 8",
       "layout": "IPY_MODEL_25bb48cc9c25434ba6aed1976e20a21f",
       "max": 7769,
       "style": "IPY_MODEL_48a2add487244aaca215b74b14970a9f",
       "value": 7769
      }
     },
     "0bc7ec6045924d568d67d1e87f4ea534": {
      "model_module": "@jupyter-widgets/controls",
      "model_module_version": "1.2.0",
      "model_name": "HTMLModel",
      "state": {
       "layout": "IPY_MODEL_54fcff9960b04ffda2c26f900d604ce4",
       "style": "IPY_MODEL_7b29448d37a44eb18ff12fde27756331",
       "value": "[loss: 0.001, acc: 1.000] : 100% 7769/7769 [00:12&lt;00:00, 599.63it/s]"
      }
     },
     "0cd51626073a4a899d3d2107d678ea31": {
      "model_module": "@jupyter-widgets/controls",
      "model_module_version": "1.2.0",
      "model_name": "IntProgressModel",
      "state": {
       "description": "Epoch 33",
       "layout": "IPY_MODEL_f814bcdf5a71491ebe076dd53a985774",
       "max": 7769,
       "style": "IPY_MODEL_1903c78799314274be6406f2e79bfe17",
       "value": 7769
      }
     },
     "0cf4b9f6a9de4c39882ad6ebfdfab437": {
      "model_module": "@jupyter-widgets/controls",
      "model_module_version": "1.2.0",
      "model_name": "IntProgressModel",
      "state": {
       "description": "Epoch 43",
       "layout": "IPY_MODEL_b1a95e3e2be3491bbf487637043b5ea4",
       "max": 7769,
       "style": "IPY_MODEL_9f166356c25e42849d832af0a93e09e0",
       "value": 7769
      }
     },
     "0d07acf0ff8747eea7fc6858ce03f6f5": {
      "model_module": "@jupyter-widgets/base",
      "model_module_version": "1.0.0",
      "model_name": "LayoutModel",
      "state": {}
     },
     "1087c12eaa594016a5ca705542760952": {
      "model_module": "@jupyter-widgets/base",
      "model_module_version": "1.0.0",
      "model_name": "LayoutModel",
      "state": {}
     },
     "1195de4fa7994e17a77a471e6ad6550e": {
      "model_module": "@jupyter-widgets/controls",
      "model_module_version": "1.2.0",
      "model_name": "DescriptionStyleModel",
      "state": {
       "description_width": ""
      }
     },
     "120d6a125bf3401483afa665084de5f0": {
      "model_module": "@jupyter-widgets/base",
      "model_module_version": "1.0.0",
      "model_name": "LayoutModel",
      "state": {}
     },
     "127d419ba0964474a6dc52baa7f33703": {
      "model_module": "@jupyter-widgets/controls",
      "model_module_version": "1.2.0",
      "model_name": "DescriptionStyleModel",
      "state": {
       "description_width": ""
      }
     },
     "12e0deda1dbd412f8ffed14061810137": {
      "model_module": "@jupyter-widgets/controls",
      "model_module_version": "1.2.0",
      "model_name": "HTMLModel",
      "state": {
       "layout": "IPY_MODEL_3629eb73c4a2407180f0c419d315680f",
       "style": "IPY_MODEL_b835dd6a2b6843a28bba3fbce3cd4067",
       "value": "[loss: 0.001, acc: 1.000] : 100% 7769/7769 [00:12&lt;00:00, 622.83it/s]"
      }
     },
     "136db54c3e584afb823a95ba1abad659": {
      "model_module": "@jupyter-widgets/controls",
      "model_module_version": "1.2.0",
      "model_name": "DescriptionStyleModel",
      "state": {
       "description_width": ""
      }
     },
     "13e6200f9c2a4bba9cb006ae584cb7a4": {
      "model_module": "@jupyter-widgets/controls",
      "model_module_version": "1.2.0",
      "model_name": "DescriptionStyleModel",
      "state": {
       "description_width": ""
      }
     },
     "13f88e40c1724dd692d77f4125fdcc35": {
      "model_module": "@jupyter-widgets/controls",
      "model_module_version": "1.2.0",
      "model_name": "HTMLModel",
      "state": {
       "layout": "IPY_MODEL_32b977e1b94e4e3c981a8b2040397215",
       "style": "IPY_MODEL_7063e3e430e1408b8e81b17f8ce94633",
       "value": "[loss: 0.002, acc: 1.000] : 100% 7769/7769 [00:12&lt;00:00, 621.98it/s]"
      }
     },
     "144523ed48dc40ba9e7d538818c2b19d": {
      "model_module": "@jupyter-widgets/controls",
      "model_module_version": "1.2.0",
      "model_name": "DescriptionStyleModel",
      "state": {
       "description_width": ""
      }
     },
     "174924c0836a49a38c9f0542f3792dc4": {
      "model_module": "@jupyter-widgets/controls",
      "model_module_version": "1.2.0",
      "model_name": "HTMLModel",
      "state": {
       "layout": "IPY_MODEL_2785644c86804de5a6c17140b53bc900",
       "style": "IPY_MODEL_983ad2bdc7fd4df8b0482e2dde2d0895",
       "value": "[loss: 0.001, acc: 1.000] : 100% 7769/7769 [00:12&lt;00:00, 601.58it/s]"
      }
     },
     "17deca2b307b4e539281f4885e07dc6a": {
      "model_module": "@jupyter-widgets/controls",
      "model_module_version": "1.2.0",
      "model_name": "HTMLModel",
      "state": {
       "layout": "IPY_MODEL_576c79783dab4e2fa6df39b8da1a5ca3",
       "style": "IPY_MODEL_cb0b19ce9cb241a0b7c27475a969cc95",
       "value": "[loss: 0.001, acc: 1.000] : 100% 7769/7769 [00:12&lt;00:00, 616.02it/s]"
      }
     },
     "18286f0bd39e467a8e01b3e2aa7dae60": {
      "model_module": "@jupyter-widgets/base",
      "model_module_version": "1.0.0",
      "model_name": "LayoutModel",
      "state": {}
     },
     "18376b576ad7465da2f4447928889b44": {
      "model_module": "@jupyter-widgets/controls",
      "model_module_version": "1.2.0",
      "model_name": "IntProgressModel",
      "state": {
       "description": "Epoch 34",
       "layout": "IPY_MODEL_27035cf280ad432c820c14c2bff05e3e",
       "max": 7769,
       "style": "IPY_MODEL_737965f8d2bd4111bd936081b2f1f840",
       "value": 7769
      }
     },
     "1852bcb762b64c69b93a9c52102cb236": {
      "model_module": "@jupyter-widgets/controls",
      "model_module_version": "1.2.0",
      "model_name": "ProgressStyleModel",
      "state": {
       "description_width": ""
      }
     },
     "1903c78799314274be6406f2e79bfe17": {
      "model_module": "@jupyter-widgets/controls",
      "model_module_version": "1.2.0",
      "model_name": "ProgressStyleModel",
      "state": {
       "description_width": ""
      }
     },
     "1982261de25846039c39ea7471053aca": {
      "model_module": "@jupyter-widgets/controls",
      "model_module_version": "1.2.0",
      "model_name": "HTMLModel",
      "state": {
       "layout": "IPY_MODEL_967fe95ee8f6468192c43c2e56d98e01",
       "style": "IPY_MODEL_8bf2bf96546f47cbb45aa76bd82ca7b4",
       "value": "[loss: 0.002, acc: 0.999] : 100% 7769/7769 [00:12&lt;00:00, 592.40it/s]"
      }
     },
     "1a041714cacf453bb3a6dfd1c063dc08": {
      "model_module": "@jupyter-widgets/controls",
      "model_module_version": "1.2.0",
      "model_name": "ProgressStyleModel",
      "state": {
       "description_width": ""
      }
     },
     "1a2430866051461bad878c2d74327e7a": {
      "model_module": "@jupyter-widgets/base",
      "model_module_version": "1.0.0",
      "model_name": "LayoutModel",
      "state": {}
     },
     "1b0b7adb2015428a868fc2bb19301d0d": {
      "model_module": "@jupyter-widgets/controls",
      "model_module_version": "1.2.0",
      "model_name": "DescriptionStyleModel",
      "state": {
       "description_width": ""
      }
     },
     "1baa570d6b8645bea91d5be7dbce1dfb": {
      "model_module": "@jupyter-widgets/controls",
      "model_module_version": "1.2.0",
      "model_name": "HTMLModel",
      "state": {
       "layout": "IPY_MODEL_aa478c8232bd490b8ecad3d3e0f9a0f6",
       "style": "IPY_MODEL_a8ce00e194f04982b6fdfe45675e6805",
       "value": "[loss: 0.002, acc: 1.000] : 100% 7769/7769 [00:12&lt;00:00, 624.96it/s]"
      }
     },
     "1cba8e45b78e4a7f9f1ed360424fbf2b": {
      "model_module": "@jupyter-widgets/base",
      "model_module_version": "1.0.0",
      "model_name": "LayoutModel",
      "state": {}
     },
     "1d95c2cb71404c268bfd08d757f5f226": {
      "model_module": "@jupyter-widgets/controls",
      "model_module_version": "1.2.0",
      "model_name": "DescriptionStyleModel",
      "state": {
       "description_width": ""
      }
     },
     "1e5b305a792c4a14b7bf049f06357e79": {
      "model_module": "@jupyter-widgets/controls",
      "model_module_version": "1.2.0",
      "model_name": "ProgressStyleModel",
      "state": {
       "description_width": ""
      }
     },
     "1e848f6049354b97a59dba4ffda6a98c": {
      "model_module": "@jupyter-widgets/controls",
      "model_module_version": "1.2.0",
      "model_name": "HTMLModel",
      "state": {
       "layout": "IPY_MODEL_511ad070e9154541b9219c37f68da16f",
       "style": "IPY_MODEL_e5dc2483aa7c43f98c318cff794b43ef",
       "value": "[loss: 0.003, acc: 0.999] : 100% 7769/7769 [00:12&lt;00:00, 565.28it/s]"
      }
     },
     "1ff6686b67464c5c860e6c8f4db0039b": {
      "model_module": "@jupyter-widgets/controls",
      "model_module_version": "1.2.0",
      "model_name": "ProgressStyleModel",
      "state": {
       "description_width": ""
      }
     },
     "20fa84a11ab24b9cb30f898ee481da47": {
      "model_module": "@jupyter-widgets/base",
      "model_module_version": "1.0.0",
      "model_name": "LayoutModel",
      "state": {}
     },
     "2132ff3c71f5401cb24647f5a6ac6460": {
      "model_module": "@jupyter-widgets/controls",
      "model_module_version": "1.2.0",
      "model_name": "HTMLModel",
      "state": {
       "layout": "IPY_MODEL_7ef179e448904c4bbaeaa5dbe498e72f",
       "style": "IPY_MODEL_d2e1aaee7598446ca5fe54c974792820",
       "value": "[loss: 0.001, acc: 1.000] : 100% 7769/7769 [00:12&lt;00:00, 603.86it/s]"
      }
     },
     "216d45dd7201429da9223c801304c1bc": {
      "model_module": "@jupyter-widgets/base",
      "model_module_version": "1.0.0",
      "model_name": "LayoutModel",
      "state": {}
     },
     "220aab1c9b004e7d8431091e5d599575": {
      "model_module": "@jupyter-widgets/controls",
      "model_module_version": "1.2.0",
      "model_name": "IntProgressModel",
      "state": {
       "description": "Epoch 27",
       "layout": "IPY_MODEL_5fe54000132b4208ae946a7b03c84fbb",
       "max": 7769,
       "style": "IPY_MODEL_9fb569929c56432f8bcdf0ea67605458",
       "value": 7769
      }
     },
     "22a0f412ae9b4f498eb1cae8410356f0": {
      "model_module": "@jupyter-widgets/base",
      "model_module_version": "1.0.0",
      "model_name": "LayoutModel",
      "state": {}
     },
     "2339e000259e4499b66d57312ec10993": {
      "model_module": "@jupyter-widgets/base",
      "model_module_version": "1.0.0",
      "model_name": "LayoutModel",
      "state": {}
     },
     "24139a1d18ee4eb5b80580c6f3667408": {
      "model_module": "@jupyter-widgets/controls",
      "model_module_version": "1.2.0",
      "model_name": "DescriptionStyleModel",
      "state": {
       "description_width": ""
      }
     },
     "2480e359e8774cae825c80050f7fa143": {
      "model_module": "@jupyter-widgets/controls",
      "model_module_version": "1.2.0",
      "model_name": "DescriptionStyleModel",
      "state": {
       "description_width": ""
      }
     },
     "24833813baf547c1bff59b59b4714363": {
      "model_module": "@jupyter-widgets/controls",
      "model_module_version": "1.2.0",
      "model_name": "DescriptionStyleModel",
      "state": {
       "description_width": ""
      }
     },
     "24daf3a5c67b4690b61d54497ba38286": {
      "model_module": "@jupyter-widgets/controls",
      "model_module_version": "1.2.0",
      "model_name": "HBoxModel",
      "state": {
       "children": [
        "IPY_MODEL_5682ece699ae4a6da0caa3feabc1be87",
        "IPY_MODEL_5a4d180e48794ad3be9aeba627200c4d"
       ],
       "layout": "IPY_MODEL_3966b2350ca6434f8495e98171c28a7c"
      }
     },
     "25bb48cc9c25434ba6aed1976e20a21f": {
      "model_module": "@jupyter-widgets/base",
      "model_module_version": "1.0.0",
      "model_name": "LayoutModel",
      "state": {}
     },
     "25e9c1700e804c64bba781d9386f457b": {
      "model_module": "@jupyter-widgets/controls",
      "model_module_version": "1.2.0",
      "model_name": "HTMLModel",
      "state": {
       "layout": "IPY_MODEL_fae333b7447747c3bbe9547af0eb1c09",
       "style": "IPY_MODEL_7272f6e45b7749649a47ac71e98bd892",
       "value": "[loss: 0.001, acc: 1.000] : 100% 7769/7769 [00:12&lt;00:00, 605.72it/s]"
      }
     },
     "2632b2e43c8b4dd9b355d634654d0269": {
      "model_module": "@jupyter-widgets/controls",
      "model_module_version": "1.2.0",
      "model_name": "IntProgressModel",
      "state": {
       "description": "Epoch 9",
       "layout": "IPY_MODEL_bdf826bee34047c995deab58fc6ae555",
       "max": 7769,
       "style": "IPY_MODEL_7ac555a5779b4be2a405bc6ea5e1e5b8",
       "value": 7769
      }
     },
     "26afca6540cc4d148f39dd2c06ee0459": {
      "model_module": "@jupyter-widgets/controls",
      "model_module_version": "1.2.0",
      "model_name": "IntProgressModel",
      "state": {
       "description": "Epoch 1",
       "layout": "IPY_MODEL_99b833e856084fba96c694c1c1e9e4be",
       "max": 7769,
       "style": "IPY_MODEL_328fc81f752f4ff2ad1da5ad548a9319",
       "value": 7769
      }
     },
     "27035cf280ad432c820c14c2bff05e3e": {
      "model_module": "@jupyter-widgets/base",
      "model_module_version": "1.0.0",
      "model_name": "LayoutModel",
      "state": {}
     },
     "2785644c86804de5a6c17140b53bc900": {
      "model_module": "@jupyter-widgets/base",
      "model_module_version": "1.0.0",
      "model_name": "LayoutModel",
      "state": {}
     },
     "28a786d937c64f4085f486a52ef1d452": {
      "model_module": "@jupyter-widgets/controls",
      "model_module_version": "1.2.0",
      "model_name": "ProgressStyleModel",
      "state": {
       "description_width": ""
      }
     },
     "29d4c2f7ab2c4d8e9534b2e5be7a9157": {
      "model_module": "@jupyter-widgets/base",
      "model_module_version": "1.0.0",
      "model_name": "LayoutModel",
      "state": {}
     },
     "2af63527c1794ca9a64ec59e5ff2d498": {
      "model_module": "@jupyter-widgets/controls",
      "model_module_version": "1.2.0",
      "model_name": "ProgressStyleModel",
      "state": {
       "description_width": ""
      }
     },
     "2b234022f35146bb9c2ad4df675aaa9a": {
      "model_module": "@jupyter-widgets/base",
      "model_module_version": "1.0.0",
      "model_name": "LayoutModel",
      "state": {}
     },
     "2b64e61bd034433a9f333321e588383a": {
      "model_module": "@jupyter-widgets/controls",
      "model_module_version": "1.2.0",
      "model_name": "DescriptionStyleModel",
      "state": {
       "description_width": ""
      }
     },
     "2c6398a80af044eba36aa7142425af53": {
      "model_module": "@jupyter-widgets/base",
      "model_module_version": "1.0.0",
      "model_name": "LayoutModel",
      "state": {}
     },
     "2c6bf75c1b3e43d28ce54c358dc3679b": {
      "model_module": "@jupyter-widgets/base",
      "model_module_version": "1.0.0",
      "model_name": "LayoutModel",
      "state": {}
     },
     "2c7f935d08b94df49c4e6d325643abd4": {
      "model_module": "@jupyter-widgets/controls",
      "model_module_version": "1.2.0",
      "model_name": "DescriptionStyleModel",
      "state": {
       "description_width": ""
      }
     },
     "2c9d3c72ad7d49d1b1161b5ed2a83cff": {
      "model_module": "@jupyter-widgets/controls",
      "model_module_version": "1.2.0",
      "model_name": "IntProgressModel",
      "state": {
       "description": "Epoch 23",
       "layout": "IPY_MODEL_e6ba9649f1e2461db6ecb0f885144866",
       "max": 7769,
       "style": "IPY_MODEL_4daafbdb443f4197ae55631b75f9ba15",
       "value": 7769
      }
     },
     "2dbae45ea9034f7e8c4ae75cd6a857d0": {
      "model_module": "@jupyter-widgets/base",
      "model_module_version": "1.0.0",
      "model_name": "LayoutModel",
      "state": {}
     },
     "2efad3ceab4b4e8592be40b7c3816f42": {
      "model_module": "@jupyter-widgets/controls",
      "model_module_version": "1.2.0",
      "model_name": "DescriptionStyleModel",
      "state": {
       "description_width": ""
      }
     },
     "2ff6c21b40a04d6da16bf8fa6c3e5575": {
      "model_module": "@jupyter-widgets/base",
      "model_module_version": "1.0.0",
      "model_name": "LayoutModel",
      "state": {}
     },
     "30989b28d9494546bec8ab1cffeaa476": {
      "model_module": "@jupyter-widgets/controls",
      "model_module_version": "1.2.0",
      "model_name": "IntProgressModel",
      "state": {
       "description": "Epoch 28",
       "layout": "IPY_MODEL_393a8b9cdd194b38bacbb43957439d47",
       "max": 7769,
       "style": "IPY_MODEL_1852bcb762b64c69b93a9c52102cb236",
       "value": 7769
      }
     },
     "3289d2f41b4740a9b63ee0d8b518c8be": {
      "model_module": "@jupyter-widgets/controls",
      "model_module_version": "1.2.0",
      "model_name": "ProgressStyleModel",
      "state": {
       "description_width": ""
      }
     },
     "328fc81f752f4ff2ad1da5ad548a9319": {
      "model_module": "@jupyter-widgets/controls",
      "model_module_version": "1.2.0",
      "model_name": "ProgressStyleModel",
      "state": {
       "description_width": ""
      }
     },
     "32b977e1b94e4e3c981a8b2040397215": {
      "model_module": "@jupyter-widgets/base",
      "model_module_version": "1.0.0",
      "model_name": "LayoutModel",
      "state": {}
     },
     "33aa2ae331d144b8b0d1fc20742b79e7": {
      "model_module": "@jupyter-widgets/controls",
      "model_module_version": "1.2.0",
      "model_name": "DescriptionStyleModel",
      "state": {
       "description_width": ""
      }
     },
     "33bb7e3e9ffe4f9d850a1b7ed866b49e": {
      "model_module": "@jupyter-widgets/controls",
      "model_module_version": "1.2.0",
      "model_name": "ProgressStyleModel",
      "state": {
       "description_width": ""
      }
     },
     "34a22d003ced46a0bd0282409dccb251": {
      "model_module": "@jupyter-widgets/controls",
      "model_module_version": "1.2.0",
      "model_name": "ProgressStyleModel",
      "state": {
       "description_width": ""
      }
     },
     "35eac8fc4fe248279c83813bf00abcce": {
      "model_module": "@jupyter-widgets/controls",
      "model_module_version": "1.2.0",
      "model_name": "ProgressStyleModel",
      "state": {
       "description_width": ""
      }
     },
     "3629eb73c4a2407180f0c419d315680f": {
      "model_module": "@jupyter-widgets/base",
      "model_module_version": "1.0.0",
      "model_name": "LayoutModel",
      "state": {}
     },
     "389adb57331e4034957c5b56ac4723dc": {
      "model_module": "@jupyter-widgets/controls",
      "model_module_version": "1.2.0",
      "model_name": "HTMLModel",
      "state": {
       "layout": "IPY_MODEL_4513d7043e7f4380af53f04b0c91fca9",
       "style": "IPY_MODEL_b81be3d142fa4e4593b5ae102698bcbe",
       "value": "[loss: 0.001, acc: 1.000] : 100% 7769/7769 [00:12&lt;00:00, 614.34it/s]"
      }
     },
     "393a8b9cdd194b38bacbb43957439d47": {
      "model_module": "@jupyter-widgets/base",
      "model_module_version": "1.0.0",
      "model_name": "LayoutModel",
      "state": {}
     },
     "394a28023faf48db87c14f7d86cadcf3": {
      "model_module": "@jupyter-widgets/base",
      "model_module_version": "1.0.0",
      "model_name": "LayoutModel",
      "state": {}
     },
     "395dbbf50f1549829c6e37ba0b4a3cb9": {
      "model_module": "@jupyter-widgets/base",
      "model_module_version": "1.0.0",
      "model_name": "LayoutModel",
      "state": {}
     },
     "3966b2350ca6434f8495e98171c28a7c": {
      "model_module": "@jupyter-widgets/base",
      "model_module_version": "1.0.0",
      "model_name": "LayoutModel",
      "state": {}
     },
     "3c0bc441154248c8bfb0e41b756508f4": {
      "model_module": "@jupyter-widgets/base",
      "model_module_version": "1.0.0",
      "model_name": "LayoutModel",
      "state": {}
     },
     "3cd66097f31f42058163051fc204443f": {
      "model_module": "@jupyter-widgets/base",
      "model_module_version": "1.0.0",
      "model_name": "LayoutModel",
      "state": {}
     },
     "3ce3d098f3d04b54a04748509640081b": {
      "model_module": "@jupyter-widgets/controls",
      "model_module_version": "1.2.0",
      "model_name": "ProgressStyleModel",
      "state": {
       "description_width": ""
      }
     },
     "3d1a59de0b994431ad4bf416781ed655": {
      "model_module": "@jupyter-widgets/controls",
      "model_module_version": "1.2.0",
      "model_name": "ProgressStyleModel",
      "state": {
       "description_width": ""
      }
     },
     "3f1836ed14ad437a945d319bfb8b6714": {
      "model_module": "@jupyter-widgets/base",
      "model_module_version": "1.0.0",
      "model_name": "LayoutModel",
      "state": {}
     },
     "3f56e133ef904b26800b5d27f88bb17f": {
      "model_module": "@jupyter-widgets/controls",
      "model_module_version": "1.2.0",
      "model_name": "HTMLModel",
      "state": {
       "layout": "IPY_MODEL_f8f8038e41a74a728ce5826d769541f7",
       "style": "IPY_MODEL_9fafb973060f4a5e8e065535e00e4474",
       "value": "[loss: 0.002, acc: 0.999] : 100% 7769/7769 [00:12&lt;00:00, 591.07it/s]"
      }
     },
     "3f8f4517464e4a63a0e6ccdc94a65186": {
      "model_module": "@jupyter-widgets/base",
      "model_module_version": "1.0.0",
      "model_name": "LayoutModel",
      "state": {}
     },
     "3fa741d2049d4ccfb021f2622d5f1256": {
      "model_module": "@jupyter-widgets/base",
      "model_module_version": "1.0.0",
      "model_name": "LayoutModel",
      "state": {}
     },
     "406518d902d94b16ac4b789dcf841596": {
      "model_module": "@jupyter-widgets/base",
      "model_module_version": "1.0.0",
      "model_name": "LayoutModel",
      "state": {}
     },
     "40a8b66f413e49529f56af38ac11c9ea": {
      "model_module": "@jupyter-widgets/base",
      "model_module_version": "1.0.0",
      "model_name": "LayoutModel",
      "state": {}
     },
     "41cdd2eca32c434aaa31e9fa7f278755": {
      "model_module": "@jupyter-widgets/controls",
      "model_module_version": "1.2.0",
      "model_name": "HTMLModel",
      "state": {
       "layout": "IPY_MODEL_f4e68f75d2374d94952162385d78246f",
       "style": "IPY_MODEL_24833813baf547c1bff59b59b4714363",
       "value": "[loss: 0.008, acc: 0.998] : 100% 7769/7769 [00:12&lt;00:00, 612.69it/s]"
      }
     },
     "424903b55f2244dd859b4de9fa991d8e": {
      "model_module": "@jupyter-widgets/controls",
      "model_module_version": "1.2.0",
      "model_name": "DescriptionStyleModel",
      "state": {
       "description_width": ""
      }
     },
     "4286254c099c4155b2dab7aa6a268eb3": {
      "model_module": "@jupyter-widgets/base",
      "model_module_version": "1.0.0",
      "model_name": "LayoutModel",
      "state": {}
     },
     "42cc381216b04863956c3c36f3a9dc0e": {
      "model_module": "@jupyter-widgets/base",
      "model_module_version": "1.0.0",
      "model_name": "LayoutModel",
      "state": {}
     },
     "42da45fa4a2b438398b66ed6c4bd5a73": {
      "model_module": "@jupyter-widgets/controls",
      "model_module_version": "1.2.0",
      "model_name": "DescriptionStyleModel",
      "state": {
       "description_width": ""
      }
     },
     "4327110a2cec4946b1a4e47e1d8b5ccb": {
      "model_module": "@jupyter-widgets/base",
      "model_module_version": "1.0.0",
      "model_name": "LayoutModel",
      "state": {}
     },
     "44b99331bd604966ba3f8b2e9e795a53": {
      "model_module": "@jupyter-widgets/controls",
      "model_module_version": "1.2.0",
      "model_name": "HTMLModel",
      "state": {
       "layout": "IPY_MODEL_a743ac25974843cca83d1ba8a63eb569",
       "style": "IPY_MODEL_708ad10b22e14c5ea12c1e34e1b34348",
       "value": "[loss: 0.001, acc: 1.000] : 100% 7769/7769 [00:12&lt;00:00, 611.38it/s]"
      }
     },
     "4513d7043e7f4380af53f04b0c91fca9": {
      "model_module": "@jupyter-widgets/base",
      "model_module_version": "1.0.0",
      "model_name": "LayoutModel",
      "state": {}
     },
     "4561263dafce49bfb52f93867edb09d0": {
      "model_module": "@jupyter-widgets/base",
      "model_module_version": "1.0.0",
      "model_name": "LayoutModel",
      "state": {}
     },
     "46d68400e4574d98a5015751b5713bb9": {
      "model_module": "@jupyter-widgets/base",
      "model_module_version": "1.0.0",
      "model_name": "LayoutModel",
      "state": {}
     },
     "47a3fc046a71492b93e62a9bdf4a71e0": {
      "model_module": "@jupyter-widgets/controls",
      "model_module_version": "1.2.0",
      "model_name": "IntProgressModel",
      "state": {
       "description": "Epoch 26",
       "layout": "IPY_MODEL_56bf8326b3ed4de1a815a15bc67fbab7",
       "max": 7769,
       "style": "IPY_MODEL_1e5b305a792c4a14b7bf049f06357e79",
       "value": 7769
      }
     },
     "482ac5af9cfc4def9838571b091d576d": {
      "model_module": "@jupyter-widgets/controls",
      "model_module_version": "1.2.0",
      "model_name": "HTMLModel",
      "state": {
       "layout": "IPY_MODEL_b131729fbfcb4528a8520a04708b6376",
       "style": "IPY_MODEL_748e309a467741a79bb6ff93c3c2d16b",
       "value": "[loss: 0.003, acc: 0.999] : 100% 7769/7769 [00:12&lt;00:00, 617.15it/s]"
      }
     },
     "48a2add487244aaca215b74b14970a9f": {
      "model_module": "@jupyter-widgets/controls",
      "model_module_version": "1.2.0",
      "model_name": "ProgressStyleModel",
      "state": {
       "description_width": ""
      }
     },
     "4a3c3f2a461845d9b7ddd3bb81c4f36d": {
      "model_module": "@jupyter-widgets/controls",
      "model_module_version": "1.2.0",
      "model_name": "HTMLModel",
      "state": {
       "layout": "IPY_MODEL_c8a26abfa87c432d9bf6795bd6c94e1d",
       "style": "IPY_MODEL_6a0b99e6b7924aba9b2b71973bdd9b25",
       "value": "[loss: 0.001, acc: 1.000] : 100% 7769/7769 [00:12&lt;00:00, 623.63it/s]"
      }
     },
     "4a521c8f5275454b99985ec46ff1fa7a": {
      "model_module": "@jupyter-widgets/base",
      "model_module_version": "1.0.0",
      "model_name": "LayoutModel",
      "state": {}
     },
     "4bd634d8136849e392ae708d91e612e0": {
      "model_module": "@jupyter-widgets/controls",
      "model_module_version": "1.2.0",
      "model_name": "DescriptionStyleModel",
      "state": {
       "description_width": ""
      }
     },
     "4c8049c4937943ce9fd33f6b3517be8e": {
      "model_module": "@jupyter-widgets/controls",
      "model_module_version": "1.2.0",
      "model_name": "HTMLModel",
      "state": {
       "layout": "IPY_MODEL_6d6bba12a60b4122a6dd80bf2abf0bd2",
       "style": "IPY_MODEL_24139a1d18ee4eb5b80580c6f3667408",
       "value": "[loss: 0.002, acc: 1.000] : 100% 7769/7769 [00:12&lt;00:00, 588.36it/s]"
      }
     },
     "4daafbdb443f4197ae55631b75f9ba15": {
      "model_module": "@jupyter-widgets/controls",
      "model_module_version": "1.2.0",
      "model_name": "ProgressStyleModel",
      "state": {
       "description_width": ""
      }
     },
     "4f1384ea2e2e4e7a8702c704914ada5d": {
      "model_module": "@jupyter-widgets/base",
      "model_module_version": "1.0.0",
      "model_name": "LayoutModel",
      "state": {}
     },
     "4f308afa4bd54cf59d7527d72b3e8ebd": {
      "model_module": "@jupyter-widgets/base",
      "model_module_version": "1.0.0",
      "model_name": "LayoutModel",
      "state": {}
     },
     "50611c19cd4942af80da66f41e5d8bd6": {
      "model_module": "@jupyter-widgets/base",
      "model_module_version": "1.0.0",
      "model_name": "LayoutModel",
      "state": {}
     },
     "511ad070e9154541b9219c37f68da16f": {
      "model_module": "@jupyter-widgets/base",
      "model_module_version": "1.0.0",
      "model_name": "LayoutModel",
      "state": {}
     },
     "52342082c8bf4273b3a9d757ed491e80": {
      "model_module": "@jupyter-widgets/controls",
      "model_module_version": "1.2.0",
      "model_name": "IntProgressModel",
      "state": {
       "description": "Epoch 2",
       "layout": "IPY_MODEL_5a10af47a968445897ead5512cc5a863",
       "max": 7769,
       "style": "IPY_MODEL_f3b78038f13343aab7df564767109da6",
       "value": 7769
      }
     },
     "52e2741f69834f18a1559a991c624d74": {
      "model_module": "@jupyter-widgets/controls",
      "model_module_version": "1.2.0",
      "model_name": "IntProgressModel",
      "state": {
       "description": "Epoch 15",
       "layout": "IPY_MODEL_3f1836ed14ad437a945d319bfb8b6714",
       "max": 7769,
       "style": "IPY_MODEL_852765f96c3548f3b8128f3dcfdf8148",
       "value": 7769
      }
     },
     "540c05fe55324730b253d18f410387c8": {
      "model_module": "@jupyter-widgets/controls",
      "model_module_version": "1.2.0",
      "model_name": "ProgressStyleModel",
      "state": {
       "description_width": ""
      }
     },
     "54fcff9960b04ffda2c26f900d604ce4": {
      "model_module": "@jupyter-widgets/base",
      "model_module_version": "1.0.0",
      "model_name": "LayoutModel",
      "state": {}
     },
     "5682ece699ae4a6da0caa3feabc1be87": {
      "model_module": "@jupyter-widgets/controls",
      "model_module_version": "1.2.0",
      "model_name": "IntProgressModel",
      "state": {
       "bar_style": "success",
       "description": "Training",
       "layout": "IPY_MODEL_395dbbf50f1549829c6e37ba0b4a3cb9",
       "max": 50,
       "style": "IPY_MODEL_2af63527c1794ca9a64ec59e5ff2d498",
       "value": 50
      }
     },
     "56bf8326b3ed4de1a815a15bc67fbab7": {
      "model_module": "@jupyter-widgets/base",
      "model_module_version": "1.0.0",
      "model_name": "LayoutModel",
      "state": {}
     },
     "576c79783dab4e2fa6df39b8da1a5ca3": {
      "model_module": "@jupyter-widgets/base",
      "model_module_version": "1.0.0",
      "model_name": "LayoutModel",
      "state": {}
     },
     "5844e07e4e5f4e24b712efd62730a7fe": {
      "model_module": "@jupyter-widgets/base",
      "model_module_version": "1.0.0",
      "model_name": "LayoutModel",
      "state": {}
     },
     "589fd5df4c28496ba7af3f1e6f40e90a": {
      "model_module": "@jupyter-widgets/base",
      "model_module_version": "1.0.0",
      "model_name": "LayoutModel",
      "state": {}
     },
     "5998db05f1f54c87940c468a5ce22f76": {
      "model_module": "@jupyter-widgets/controls",
      "model_module_version": "1.2.0",
      "model_name": "IntProgressModel",
      "state": {
       "description": "Epoch 47",
       "layout": "IPY_MODEL_29d4c2f7ab2c4d8e9534b2e5be7a9157",
       "max": 7769,
       "style": "IPY_MODEL_540c05fe55324730b253d18f410387c8",
       "value": 7769
      }
     },
     "59e7b3d370f2426bacbec62c097dbecc": {
      "model_module": "@jupyter-widgets/base",
      "model_module_version": "1.0.0",
      "model_name": "LayoutModel",
      "state": {}
     },
     "5a10af47a968445897ead5512cc5a863": {
      "model_module": "@jupyter-widgets/base",
      "model_module_version": "1.0.0",
      "model_name": "LayoutModel",
      "state": {}
     },
     "5a4d180e48794ad3be9aeba627200c4d": {
      "model_module": "@jupyter-widgets/controls",
      "model_module_version": "1.2.0",
      "model_name": "HTMLModel",
      "state": {
       "layout": "IPY_MODEL_eaab5085bae74398b003d3b0e36852fd",
       "style": "IPY_MODEL_144523ed48dc40ba9e7d538818c2b19d",
       "value": "100% 50/50 [10:08&lt;00:00, 12.16s/it]"
      }
     },
     "5aca057d5af74b1786a116ac35c5d402": {
      "model_module": "@jupyter-widgets/base",
      "model_module_version": "1.0.0",
      "model_name": "LayoutModel",
      "state": {}
     },
     "5b24709f0d934112aefc83b8996b393a": {
      "model_module": "@jupyter-widgets/base",
      "model_module_version": "1.0.0",
      "model_name": "LayoutModel",
      "state": {}
     },
     "5b98d26ae9d14395a19cc3c7d0ac408d": {
      "model_module": "@jupyter-widgets/controls",
      "model_module_version": "1.2.0",
      "model_name": "DescriptionStyleModel",
      "state": {
       "description_width": ""
      }
     },
     "5e58965104554ad5a8e7e05f949f45ae": {
      "model_module": "@jupyter-widgets/base",
      "model_module_version": "1.0.0",
      "model_name": "LayoutModel",
      "state": {}
     },
     "5eda3a12a83a425cbdb08c0ba23588f5": {
      "model_module": "@jupyter-widgets/controls",
      "model_module_version": "1.2.0",
      "model_name": "IntProgressModel",
      "state": {
       "description": "Epoch 42",
       "layout": "IPY_MODEL_b844dd65264746a2a9025009064393a3",
       "max": 7769,
       "style": "IPY_MODEL_9f2de28964cf43029bb0d411e2683dcb",
       "value": 7769
      }
     },
     "5f1ddfe248794bd1bc589a2609d5bf4b": {
      "model_module": "@jupyter-widgets/base",
      "model_module_version": "1.0.0",
      "model_name": "LayoutModel",
      "state": {}
     },
     "5f2e35ed047144cdac000f4e1b8a58b4": {
      "model_module": "@jupyter-widgets/controls",
      "model_module_version": "1.2.0",
      "model_name": "DescriptionStyleModel",
      "state": {
       "description_width": ""
      }
     },
     "5fe54000132b4208ae946a7b03c84fbb": {
      "model_module": "@jupyter-widgets/base",
      "model_module_version": "1.0.0",
      "model_name": "LayoutModel",
      "state": {}
     },
     "60cd248d2c7b4fd587a492cedaea5770": {
      "model_module": "@jupyter-widgets/base",
      "model_module_version": "1.0.0",
      "model_name": "LayoutModel",
      "state": {}
     },
     "61ce28744e1b49d6b143458dc8bcb194": {
      "model_module": "@jupyter-widgets/controls",
      "model_module_version": "1.2.0",
      "model_name": "DescriptionStyleModel",
      "state": {
       "description_width": ""
      }
     },
     "62269211c3374c00a3db3bdb4b16caa1": {
      "model_module": "@jupyter-widgets/controls",
      "model_module_version": "1.2.0",
      "model_name": "HTMLModel",
      "state": {
       "layout": "IPY_MODEL_e8befde6c2a24cf785966d9131db92df",
       "style": "IPY_MODEL_a5896618c5d64ce29b1b1c7e7c962fc5",
       "value": "[loss: 0.002, acc: 0.999] : 100% 7769/7769 [00:12&lt;00:00, 605.89it/s]"
      }
     },
     "62809e4c69ef42dca104c7cbba517bf3": {
      "model_module": "@jupyter-widgets/base",
      "model_module_version": "1.0.0",
      "model_name": "LayoutModel",
      "state": {}
     },
     "63f991e7a6d84584b9da4cebd331f618": {
      "model_module": "@jupyter-widgets/controls",
      "model_module_version": "1.2.0",
      "model_name": "HTMLModel",
      "state": {
       "layout": "IPY_MODEL_5844e07e4e5f4e24b712efd62730a7fe",
       "style": "IPY_MODEL_2480e359e8774cae825c80050f7fa143",
       "value": "[loss: 0.001, acc: 1.000] : 100% 7769/7769 [00:12&lt;00:00, 583.48it/s]"
      }
     },
     "64d34c0b876f42e39b91fd53d9ef8b32": {
      "model_module": "@jupyter-widgets/base",
      "model_module_version": "1.0.0",
      "model_name": "LayoutModel",
      "state": {}
     },
     "670c112735c74d8687257ec096bc31a3": {
      "model_module": "@jupyter-widgets/controls",
      "model_module_version": "1.2.0",
      "model_name": "IntProgressModel",
      "state": {
       "description": "Epoch 14",
       "layout": "IPY_MODEL_2c6398a80af044eba36aa7142425af53",
       "max": 7769,
       "style": "IPY_MODEL_3289d2f41b4740a9b63ee0d8b518c8be",
       "value": 7769
      }
     },
     "684b77413858471ea8a224e254ff9d31": {
      "model_module": "@jupyter-widgets/controls",
      "model_module_version": "1.2.0",
      "model_name": "IntProgressModel",
      "state": {
       "description": "Epoch 25",
       "layout": "IPY_MODEL_b477f8253533400295c5fdb6110c5c24",
       "max": 7769,
       "style": "IPY_MODEL_7c07f9ccb7bb4d359e4d335cabb76040",
       "value": 7769
      }
     },
     "6863c4c42976432baf6b6304760b9ab9": {
      "model_module": "@jupyter-widgets/base",
      "model_module_version": "1.0.0",
      "model_name": "LayoutModel",
      "state": {}
     },
     "68bc88dde60a418bb954ff4d49f85226": {
      "model_module": "@jupyter-widgets/controls",
      "model_module_version": "1.2.0",
      "model_name": "ProgressStyleModel",
      "state": {
       "description_width": ""
      }
     },
     "69670f8291444144aabb3d7e83e2c3a3": {
      "model_module": "@jupyter-widgets/controls",
      "model_module_version": "1.2.0",
      "model_name": "IntProgressModel",
      "state": {
       "description": "Epoch 37",
       "layout": "IPY_MODEL_20fa84a11ab24b9cb30f898ee481da47",
       "max": 7769,
       "style": "IPY_MODEL_d81461fd7c344d7e9620a14d0a6b63bc",
       "value": 7769
      }
     },
     "69f846e02da84fdd9f63bea82a2a63f0": {
      "model_module": "@jupyter-widgets/controls",
      "model_module_version": "1.2.0",
      "model_name": "IntProgressModel",
      "state": {
       "description": "Epoch 32",
       "layout": "IPY_MODEL_4286254c099c4155b2dab7aa6a268eb3",
       "max": 7769,
       "style": "IPY_MODEL_d8d0441fb9814aafaac57806fe9149b7",
       "value": 7769
      }
     },
     "6a0b99e6b7924aba9b2b71973bdd9b25": {
      "model_module": "@jupyter-widgets/controls",
      "model_module_version": "1.2.0",
      "model_name": "DescriptionStyleModel",
      "state": {
       "description_width": ""
      }
     },
     "6a5ac441b7ee4613a174e1228add876f": {
      "model_module": "@jupyter-widgets/base",
      "model_module_version": "1.0.0",
      "model_name": "LayoutModel",
      "state": {}
     },
     "6a7a4c590cea45eeae7ce5117c1cb3c8": {
      "model_module": "@jupyter-widgets/base",
      "model_module_version": "1.0.0",
      "model_name": "LayoutModel",
      "state": {}
     },
     "6b02534b63304f468aedf53e8d8a6d32": {
      "model_module": "@jupyter-widgets/base",
      "model_module_version": "1.0.0",
      "model_name": "LayoutModel",
      "state": {}
     },
     "6d644b2297e0448c8a0175fe55d347ce": {
      "model_module": "@jupyter-widgets/controls",
      "model_module_version": "1.2.0",
      "model_name": "HTMLModel",
      "state": {
       "layout": "IPY_MODEL_8932902953ac47dab3fb84a221934af9",
       "style": "IPY_MODEL_9d58d96e62894d0fa750b9f1c36ee57e",
       "value": "[loss: 0.002, acc: 1.000] : 100% 7769/7769 [00:12&lt;00:00, 609.70it/s]"
      }
     },
     "6d6bba12a60b4122a6dd80bf2abf0bd2": {
      "model_module": "@jupyter-widgets/base",
      "model_module_version": "1.0.0",
      "model_name": "LayoutModel",
      "state": {}
     },
     "6daff225ffeb4715afe9fb7f08299063": {
      "model_module": "@jupyter-widgets/controls",
      "model_module_version": "1.2.0",
      "model_name": "HTMLModel",
      "state": {
       "layout": "IPY_MODEL_cac4c78da90b4e8ea8b065fdbc3a01af",
       "style": "IPY_MODEL_f4384f63b52d4c62b13825a6c796ec89",
       "value": "[loss: 0.001, acc: 1.000] : 100% 7769/7769 [00:12&lt;00:00, 616.79it/s]"
      }
     },
     "700d6b20d1a146dd8dd571ed36461105": {
      "model_module": "@jupyter-widgets/base",
      "model_module_version": "1.0.0",
      "model_name": "LayoutModel",
      "state": {}
     },
     "7063e3e430e1408b8e81b17f8ce94633": {
      "model_module": "@jupyter-widgets/controls",
      "model_module_version": "1.2.0",
      "model_name": "DescriptionStyleModel",
      "state": {
       "description_width": ""
      }
     },
     "708ad10b22e14c5ea12c1e34e1b34348": {
      "model_module": "@jupyter-widgets/controls",
      "model_module_version": "1.2.0",
      "model_name": "DescriptionStyleModel",
      "state": {
       "description_width": ""
      }
     },
     "70c63f68fed04d26bdad00d893536df4": {
      "model_module": "@jupyter-widgets/base",
      "model_module_version": "1.0.0",
      "model_name": "LayoutModel",
      "state": {}
     },
     "7101eeb7bdf84f1c8a67443c6ccf36a4": {
      "model_module": "@jupyter-widgets/controls",
      "model_module_version": "1.2.0",
      "model_name": "IntProgressModel",
      "state": {
       "description": "Epoch 36",
       "layout": "IPY_MODEL_c63c30f2d61c4d7985ae8eb18d5d9f4d",
       "max": 7769,
       "style": "IPY_MODEL_96a8a56c8d1347549ab3d10f6f5184e6",
       "value": 7769
      }
     },
     "725b6f26e735428d814d381b16231d36": {
      "model_module": "@jupyter-widgets/controls",
      "model_module_version": "1.2.0",
      "model_name": "ProgressStyleModel",
      "state": {
       "description_width": ""
      }
     },
     "7272f6e45b7749649a47ac71e98bd892": {
      "model_module": "@jupyter-widgets/controls",
      "model_module_version": "1.2.0",
      "model_name": "DescriptionStyleModel",
      "state": {
       "description_width": ""
      }
     },
     "73609e9959b045db90c1f5094a9d1bad": {
      "model_module": "@jupyter-widgets/base",
      "model_module_version": "1.0.0",
      "model_name": "LayoutModel",
      "state": {}
     },
     "737965f8d2bd4111bd936081b2f1f840": {
      "model_module": "@jupyter-widgets/controls",
      "model_module_version": "1.2.0",
      "model_name": "ProgressStyleModel",
      "state": {
       "description_width": ""
      }
     },
     "739d0699da494285a75edecd81dcbd3c": {
      "model_module": "@jupyter-widgets/controls",
      "model_module_version": "1.2.0",
      "model_name": "HTMLModel",
      "state": {
       "layout": "IPY_MODEL_91d882272d6c4acd84cc3790eb4f20fc",
       "style": "IPY_MODEL_f782aa8e2d27498fb517801a5f42a7d9",
       "value": "[loss: 0.002, acc: 1.000] : 100% 7769/7769 [00:12&lt;00:00, 603.40it/s]"
      }
     },
     "748e309a467741a79bb6ff93c3c2d16b": {
      "model_module": "@jupyter-widgets/controls",
      "model_module_version": "1.2.0",
      "model_name": "DescriptionStyleModel",
      "state": {
       "description_width": ""
      }
     },
     "7502817d661f4998873f8e3c8d376f3d": {
      "model_module": "@jupyter-widgets/controls",
      "model_module_version": "1.2.0",
      "model_name": "HTMLModel",
      "state": {
       "layout": "IPY_MODEL_f6c356b129fd443aa828040a10ef4433",
       "style": "IPY_MODEL_127d419ba0964474a6dc52baa7f33703",
       "value": "[loss: 0.012, acc: 0.996] : 100% 7769/7769 [00:12&lt;00:00, 605.31it/s]"
      }
     },
     "75d17aac70f14c5e8638403eda885c99": {
      "model_module": "@jupyter-widgets/base",
      "model_module_version": "1.0.0",
      "model_name": "LayoutModel",
      "state": {}
     },
     "75fa5e69f52a4da5b194387112758758": {
      "model_module": "@jupyter-widgets/controls",
      "model_module_version": "1.2.0",
      "model_name": "HTMLModel",
      "state": {
       "layout": "IPY_MODEL_b27f1e9cfa1640b780a88a677c98a3be",
       "style": "IPY_MODEL_0566d05e3ce84f00ae7f9105d73ef4c4",
       "value": "[loss: 0.003, acc: 0.999] : 100% 7769/7769 [00:12&lt;00:00, 599.84it/s]"
      }
     },
     "768e31aec74d4e5a91e6bac35f218700": {
      "model_module": "@jupyter-widgets/base",
      "model_module_version": "1.0.0",
      "model_name": "LayoutModel",
      "state": {}
     },
     "76c3e5d198544126a1910bea09778c49": {
      "model_module": "@jupyter-widgets/controls",
      "model_module_version": "1.2.0",
      "model_name": "HTMLModel",
      "state": {
       "layout": "IPY_MODEL_4f1384ea2e2e4e7a8702c704914ada5d",
       "style": "IPY_MODEL_42da45fa4a2b438398b66ed6c4bd5a73",
       "value": "[loss: 0.002, acc: 0.999] : 100% 7769/7769 [00:12&lt;00:00, 642.75it/s]"
      }
     },
     "7780028b49d646aaa27abfbb4a344344": {
      "model_module": "@jupyter-widgets/base",
      "model_module_version": "1.0.0",
      "model_name": "LayoutModel",
      "state": {}
     },
     "783c0d6edc7d4498bd846bfe3ce6f39a": {
      "model_module": "@jupyter-widgets/controls",
      "model_module_version": "1.2.0",
      "model_name": "ProgressStyleModel",
      "state": {
       "description_width": ""
      }
     },
     "78a19de680c34ede85a8be4e56df86e1": {
      "model_module": "@jupyter-widgets/controls",
      "model_module_version": "1.2.0",
      "model_name": "HTMLModel",
      "state": {
       "layout": "IPY_MODEL_6a5ac441b7ee4613a174e1228add876f",
       "style": "IPY_MODEL_b157cdd3fdf9481096a5c338f73f35c5",
       "value": "[loss: 0.002, acc: 1.000] : 100% 7769/7769 [00:12&lt;00:00, 631.53it/s]"
      }
     },
     "79a668af7f434c73964dbd4e1c7cebfc": {
      "model_module": "@jupyter-widgets/base",
      "model_module_version": "1.0.0",
      "model_name": "LayoutModel",
      "state": {}
     },
     "79efeb414f674fe596c3b317f5bf94ca": {
      "model_module": "@jupyter-widgets/controls",
      "model_module_version": "1.2.0",
      "model_name": "HTMLModel",
      "state": {
       "layout": "IPY_MODEL_0523741a8e0e47639fe97fd5e0d443f9",
       "style": "IPY_MODEL_2b64e61bd034433a9f333321e588383a",
       "value": "[loss: 0.005, acc: 0.999] : 100% 7769/7769 [00:12&lt;00:00, 633.56it/s]"
      }
     },
     "7ac555a5779b4be2a405bc6ea5e1e5b8": {
      "model_module": "@jupyter-widgets/controls",
      "model_module_version": "1.2.0",
      "model_name": "ProgressStyleModel",
      "state": {
       "description_width": ""
      }
     },
     "7ae53e48f8d64790bbb3b680592f60a9": {
      "model_module": "@jupyter-widgets/base",
      "model_module_version": "1.0.0",
      "model_name": "LayoutModel",
      "state": {}
     },
     "7b29448d37a44eb18ff12fde27756331": {
      "model_module": "@jupyter-widgets/controls",
      "model_module_version": "1.2.0",
      "model_name": "DescriptionStyleModel",
      "state": {
       "description_width": ""
      }
     },
     "7c07f9ccb7bb4d359e4d335cabb76040": {
      "model_module": "@jupyter-widgets/controls",
      "model_module_version": "1.2.0",
      "model_name": "ProgressStyleModel",
      "state": {
       "description_width": ""
      }
     },
     "7c1666954c544509a74f9de8ee15555c": {
      "model_module": "@jupyter-widgets/controls",
      "model_module_version": "1.2.0",
      "model_name": "ProgressStyleModel",
      "state": {
       "description_width": ""
      }
     },
     "7c5661fdc0934e3c81b30fd48572aa96": {
      "model_module": "@jupyter-widgets/base",
      "model_module_version": "1.0.0",
      "model_name": "LayoutModel",
      "state": {}
     },
     "7c7c4df59658470e86b06f054bf92a9a": {
      "model_module": "@jupyter-widgets/controls",
      "model_module_version": "1.2.0",
      "model_name": "ProgressStyleModel",
      "state": {
       "description_width": ""
      }
     },
     "7cffb3ffa8954f7796f85a6775e85f41": {
      "model_module": "@jupyter-widgets/base",
      "model_module_version": "1.0.0",
      "model_name": "LayoutModel",
      "state": {}
     },
     "7ef179e448904c4bbaeaa5dbe498e72f": {
      "model_module": "@jupyter-widgets/base",
      "model_module_version": "1.0.0",
      "model_name": "LayoutModel",
      "state": {}
     },
     "7f1b309810f246ce8ded042c56385fe6": {
      "model_module": "@jupyter-widgets/controls",
      "model_module_version": "1.2.0",
      "model_name": "ProgressStyleModel",
      "state": {
       "description_width": ""
      }
     },
     "7f67f2442f714eb9b4f82c2bf5cb0ab5": {
      "model_module": "@jupyter-widgets/controls",
      "model_module_version": "1.2.0",
      "model_name": "IntProgressModel",
      "state": {
       "description": "Epoch 20",
       "layout": "IPY_MODEL_f6e0f1e05b7c460e912746027d75680c",
       "max": 7769,
       "style": "IPY_MODEL_e4e37e4c3c63436b9c6cdd6941d340e4",
       "value": 7769
      }
     },
     "80534ccca792468e9e7956e015dba5b7": {
      "model_module": "@jupyter-widgets/controls",
      "model_module_version": "1.2.0",
      "model_name": "ProgressStyleModel",
      "state": {
       "description_width": ""
      }
     },
     "8092f902296c4cfa9d158b22fd4ff934": {
      "model_module": "@jupyter-widgets/controls",
      "model_module_version": "1.2.0",
      "model_name": "IntProgressModel",
      "state": {
       "description": "Epoch 39",
       "layout": "IPY_MODEL_d3a7acc4e4754169a244b22c5d6a0801",
       "max": 7769,
       "style": "IPY_MODEL_7c7c4df59658470e86b06f054bf92a9a",
       "value": 7769
      }
     },
     "81493df6beb846ef98beb0e334e54073": {
      "model_module": "@jupyter-widgets/controls",
      "model_module_version": "1.2.0",
      "model_name": "IntProgressModel",
      "state": {
       "description": "Epoch 30",
       "layout": "IPY_MODEL_ea3a3286889045e889d2110ee3ae5cc1",
       "max": 7769,
       "style": "IPY_MODEL_1ff6686b67464c5c860e6c8f4db0039b",
       "value": 7769
      }
     },
     "81b90f2f8b294af6a7a9733e365881cb": {
      "model_module": "@jupyter-widgets/controls",
      "model_module_version": "1.2.0",
      "model_name": "HTMLModel",
      "state": {
       "layout": "IPY_MODEL_3c0bc441154248c8bfb0e41b756508f4",
       "style": "IPY_MODEL_2efad3ceab4b4e8592be40b7c3816f42",
       "value": "[loss: 0.002, acc: 1.000] : 100% 7769/7769 [00:12&lt;00:00, 611.10it/s]"
      }
     },
     "82e4a1cae5dc4d30b29ce86297718e1c": {
      "model_module": "@jupyter-widgets/controls",
      "model_module_version": "1.2.0",
      "model_name": "IntProgressModel",
      "state": {
       "description": "Epoch 31",
       "layout": "IPY_MODEL_8ab88521847d47b28b00917ed839f767",
       "max": 7769,
       "style": "IPY_MODEL_fa9bdda97d5446528d5f5affd84ae0b9",
       "value": 7769
      }
     },
     "83c7d971633a47f1aaf04f5b6a7ce7cc": {
      "model_module": "@jupyter-widgets/controls",
      "model_module_version": "1.2.0",
      "model_name": "HTMLModel",
      "state": {
       "layout": "IPY_MODEL_7cffb3ffa8954f7796f85a6775e85f41",
       "style": "IPY_MODEL_33aa2ae331d144b8b0d1fc20742b79e7",
       "value": "[loss: 0.003, acc: 0.999] : 100% 7769/7769 [00:12&lt;00:00, 621.59it/s]"
      }
     },
     "852765f96c3548f3b8128f3dcfdf8148": {
      "model_module": "@jupyter-widgets/controls",
      "model_module_version": "1.2.0",
      "model_name": "ProgressStyleModel",
      "state": {
       "description_width": ""
      }
     },
     "853a277ca4314a02be3ea155916a2b61": {
      "model_module": "@jupyter-widgets/controls",
      "model_module_version": "1.2.0",
      "model_name": "HTMLModel",
      "state": {
       "layout": "IPY_MODEL_7780028b49d646aaa27abfbb4a344344",
       "style": "IPY_MODEL_1d95c2cb71404c268bfd08d757f5f226",
       "value": "[loss: 0.001, acc: 1.000] : 100% 7769/7769 [00:12&lt;00:00, 617.39it/s]"
      }
     },
     "85ef38b0ea33447cbfd12f87f3181d29": {
      "model_module": "@jupyter-widgets/controls",
      "model_module_version": "1.2.0",
      "model_name": "HTMLModel",
      "state": {
       "layout": "IPY_MODEL_4f308afa4bd54cf59d7527d72b3e8ebd",
       "style": "IPY_MODEL_aab6239daa73426b854bf0f50e1e609a",
       "value": "[loss: 0.001, acc: 1.000] : 100% 7769/7769 [00:12&lt;00:00, 611.62it/s]"
      }
     },
     "88b697e0c8e541cb91fd872bbb0b9c95": {
      "model_module": "@jupyter-widgets/controls",
      "model_module_version": "1.2.0",
      "model_name": "IntProgressModel",
      "state": {
       "description": "Epoch 21",
       "layout": "IPY_MODEL_06c7fdd5295e4240a4c743cb49460349",
       "max": 7769,
       "style": "IPY_MODEL_7f1b309810f246ce8ded042c56385fe6",
       "value": 7769
      }
     },
     "89300bd34846476487e9f86e52395b3a": {
      "model_module": "@jupyter-widgets/controls",
      "model_module_version": "1.2.0",
      "model_name": "DescriptionStyleModel",
      "state": {
       "description_width": ""
      }
     },
     "8932902953ac47dab3fb84a221934af9": {
      "model_module": "@jupyter-widgets/base",
      "model_module_version": "1.0.0",
      "model_name": "LayoutModel",
      "state": {}
     },
     "8959a218c9db4314a980e59752498ba7": {
      "model_module": "@jupyter-widgets/controls",
      "model_module_version": "1.2.0",
      "model_name": "DescriptionStyleModel",
      "state": {
       "description_width": ""
      }
     },
     "89d1501bda1b4bfcb4ff150c74402440": {
      "model_module": "@jupyter-widgets/controls",
      "model_module_version": "1.2.0",
      "model_name": "ProgressStyleModel",
      "state": {
       "description_width": ""
      }
     },
     "8a58dcbcd2194722a04baa3d36bc143b": {
      "model_module": "@jupyter-widgets/base",
      "model_module_version": "1.0.0",
      "model_name": "LayoutModel",
      "state": {}
     },
     "8ab88521847d47b28b00917ed839f767": {
      "model_module": "@jupyter-widgets/base",
      "model_module_version": "1.0.0",
      "model_name": "LayoutModel",
      "state": {}
     },
     "8ac710f7b3454e64a13657269ef33935": {
      "model_module": "@jupyter-widgets/base",
      "model_module_version": "1.0.0",
      "model_name": "LayoutModel",
      "state": {}
     },
     "8b51d80e200643a896142ded728f520b": {
      "model_module": "@jupyter-widgets/base",
      "model_module_version": "1.0.0",
      "model_name": "LayoutModel",
      "state": {}
     },
     "8bf2bf96546f47cbb45aa76bd82ca7b4": {
      "model_module": "@jupyter-widgets/controls",
      "model_module_version": "1.2.0",
      "model_name": "DescriptionStyleModel",
      "state": {
       "description_width": ""
      }
     },
     "8edc688c12a14f9abef1449a59260e86": {
      "model_module": "@jupyter-widgets/base",
      "model_module_version": "1.0.0",
      "model_name": "LayoutModel",
      "state": {}
     },
     "8f2265d5751846038adce1f935692d0e": {
      "model_module": "@jupyter-widgets/base",
      "model_module_version": "1.0.0",
      "model_name": "LayoutModel",
      "state": {}
     },
     "908dc90518c1444fb112b96cc25e0a71": {
      "model_module": "@jupyter-widgets/base",
      "model_module_version": "1.0.0",
      "model_name": "LayoutModel",
      "state": {}
     },
     "90a6d65477b4499f9ba20c170f3751a1": {
      "model_module": "@jupyter-widgets/controls",
      "model_module_version": "1.2.0",
      "model_name": "ProgressStyleModel",
      "state": {
       "description_width": ""
      }
     },
     "9113817285074c969fc8dcb58e87be10": {
      "model_module": "@jupyter-widgets/base",
      "model_module_version": "1.0.0",
      "model_name": "LayoutModel",
      "state": {}
     },
     "91d882272d6c4acd84cc3790eb4f20fc": {
      "model_module": "@jupyter-widgets/base",
      "model_module_version": "1.0.0",
      "model_name": "LayoutModel",
      "state": {}
     },
     "9385f94133e747b2b9ad4e1e7a6e2e5b": {
      "model_module": "@jupyter-widgets/controls",
      "model_module_version": "1.2.0",
      "model_name": "HTMLModel",
      "state": {
       "layout": "IPY_MODEL_ecc5a0ea2fb34c3ebca96551e7b576cc",
       "style": "IPY_MODEL_13e6200f9c2a4bba9cb006ae584cb7a4",
       "value": "[loss: 0.002, acc: 0.999] : 100% 7769/7769 [00:12&lt;00:00, 587.00it/s]"
      }
     },
     "93aef352714f403b8d086e359f96c5db": {
      "model_module": "@jupyter-widgets/base",
      "model_module_version": "1.0.0",
      "model_name": "LayoutModel",
      "state": {}
     },
     "93c2756e0d6c40f5af1d75f299e453c0": {
      "model_module": "@jupyter-widgets/base",
      "model_module_version": "1.0.0",
      "model_name": "LayoutModel",
      "state": {}
     },
     "93d0f12a79924c589fd4abbc115fda0a": {
      "model_module": "@jupyter-widgets/base",
      "model_module_version": "1.0.0",
      "model_name": "LayoutModel",
      "state": {}
     },
     "95133d365cf34f378c1334a27329d143": {
      "model_module": "@jupyter-widgets/base",
      "model_module_version": "1.0.0",
      "model_name": "LayoutModel",
      "state": {}
     },
     "95ae30df6eaf4dd8a2d2c2e50494b2ed": {
      "model_module": "@jupyter-widgets/controls",
      "model_module_version": "1.2.0",
      "model_name": "IntProgressModel",
      "state": {
       "description": "Epoch 18",
       "layout": "IPY_MODEL_9d6cf3fb31174176905dbbadc5ad82d5",
       "max": 7769,
       "style": "IPY_MODEL_80534ccca792468e9e7956e015dba5b7",
       "value": 7769
      }
     },
     "967fe95ee8f6468192c43c2e56d98e01": {
      "model_module": "@jupyter-widgets/base",
      "model_module_version": "1.0.0",
      "model_name": "LayoutModel",
      "state": {}
     },
     "9683a3840f2143259121e969739499d8": {
      "model_module": "@jupyter-widgets/base",
      "model_module_version": "1.0.0",
      "model_name": "LayoutModel",
      "state": {}
     },
     "96a8a56c8d1347549ab3d10f6f5184e6": {
      "model_module": "@jupyter-widgets/controls",
      "model_module_version": "1.2.0",
      "model_name": "ProgressStyleModel",
      "state": {
       "description_width": ""
      }
     },
     "96b210aec9c84e63b005d17800585ef7": {
      "model_module": "@jupyter-widgets/controls",
      "model_module_version": "1.2.0",
      "model_name": "IntProgressModel",
      "state": {
       "description": "Epoch 35",
       "layout": "IPY_MODEL_08e82c3a23fb4fed9b83560d7170cb5d",
       "max": 7769,
       "style": "IPY_MODEL_ef970a4686d147128a2c4d523c80752a",
       "value": 7769
      }
     },
     "97bff626b1c049b7860b8e13aecf5078": {
      "model_module": "@jupyter-widgets/controls",
      "model_module_version": "1.2.0",
      "model_name": "IntProgressModel",
      "state": {
       "description": "Epoch 49",
       "layout": "IPY_MODEL_2ff6c21b40a04d6da16bf8fa6c3e5575",
       "max": 7769,
       "style": "IPY_MODEL_783c0d6edc7d4498bd846bfe3ce6f39a",
       "value": 7769
      }
     },
     "983ad2bdc7fd4df8b0482e2dde2d0895": {
      "model_module": "@jupyter-widgets/controls",
      "model_module_version": "1.2.0",
      "model_name": "DescriptionStyleModel",
      "state": {
       "description_width": ""
      }
     },
     "995390f8af804e64af54c46a0763bf0e": {
      "model_module": "@jupyter-widgets/controls",
      "model_module_version": "1.2.0",
      "model_name": "IntProgressModel",
      "state": {
       "description": "Epoch 44",
       "layout": "IPY_MODEL_b30811eee99c4db793f0d123a92f4a3d",
       "max": 7769,
       "style": "IPY_MODEL_f21eab9d03834887a0d91e6804edfe3a",
       "value": 7769
      }
     },
     "99b833e856084fba96c694c1c1e9e4be": {
      "model_module": "@jupyter-widgets/base",
      "model_module_version": "1.0.0",
      "model_name": "LayoutModel",
      "state": {}
     },
     "99b891775a7f4dc58a677b9440f4351f": {
      "model_module": "@jupyter-widgets/controls",
      "model_module_version": "1.2.0",
      "model_name": "IntProgressModel",
      "state": {
       "description": "Epoch 5",
       "layout": "IPY_MODEL_c2a3237aaa3148beacb2e64f62050605",
       "max": 7769,
       "style": "IPY_MODEL_e9c6cf84cf404853be5b5cfa9d94281e",
       "value": 7769
      }
     },
     "9bfafda30d3d40798616d3dd0e383240": {
      "model_module": "@jupyter-widgets/base",
      "model_module_version": "1.0.0",
      "model_name": "LayoutModel",
      "state": {}
     },
     "9d58d96e62894d0fa750b9f1c36ee57e": {
      "model_module": "@jupyter-widgets/controls",
      "model_module_version": "1.2.0",
      "model_name": "DescriptionStyleModel",
      "state": {
       "description_width": ""
      }
     },
     "9d6cf3fb31174176905dbbadc5ad82d5": {
      "model_module": "@jupyter-widgets/base",
      "model_module_version": "1.0.0",
      "model_name": "LayoutModel",
      "state": {}
     },
     "9e96bf9534c54fa69318486bb1c64dea": {
      "model_module": "@jupyter-widgets/controls",
      "model_module_version": "1.2.0",
      "model_name": "IntProgressModel",
      "state": {
       "description": "Epoch 41",
       "layout": "IPY_MODEL_8ac710f7b3454e64a13657269ef33935",
       "max": 7769,
       "style": "IPY_MODEL_28a786d937c64f4085f486a52ef1d452",
       "value": 7769
      }
     },
     "9f166356c25e42849d832af0a93e09e0": {
      "model_module": "@jupyter-widgets/controls",
      "model_module_version": "1.2.0",
      "model_name": "ProgressStyleModel",
      "state": {
       "description_width": ""
      }
     },
     "9f2de28964cf43029bb0d411e2683dcb": {
      "model_module": "@jupyter-widgets/controls",
      "model_module_version": "1.2.0",
      "model_name": "ProgressStyleModel",
      "state": {
       "description_width": ""
      }
     },
     "9f2f59fa98774444a60215b8cdf0127d": {
      "model_module": "@jupyter-widgets/controls",
      "model_module_version": "1.2.0",
      "model_name": "HTMLModel",
      "state": {
       "layout": "IPY_MODEL_9bfafda30d3d40798616d3dd0e383240",
       "style": "IPY_MODEL_d70f35d5de8e419e86e85e8e17c52b9e",
       "value": "[loss: 0.004, acc: 0.999] : 100% 7769/7769 [00:12&lt;00:00, 592.75it/s]"
      }
     },
     "9fafb973060f4a5e8e065535e00e4474": {
      "model_module": "@jupyter-widgets/controls",
      "model_module_version": "1.2.0",
      "model_name": "DescriptionStyleModel",
      "state": {
       "description_width": ""
      }
     },
     "9fb569929c56432f8bcdf0ea67605458": {
      "model_module": "@jupyter-widgets/controls",
      "model_module_version": "1.2.0",
      "model_name": "ProgressStyleModel",
      "state": {
       "description_width": ""
      }
     },
     "a3339faf7d9e468381756c5b17190625": {
      "model_module": "@jupyter-widgets/base",
      "model_module_version": "1.0.0",
      "model_name": "LayoutModel",
      "state": {}
     },
     "a4f465f6584540dc964a95ca2451a15d": {
      "model_module": "@jupyter-widgets/controls",
      "model_module_version": "1.2.0",
      "model_name": "IntProgressModel",
      "state": {
       "description": "Epoch 11",
       "layout": "IPY_MODEL_faf8ee981da74fcdabed99c42244226f",
       "max": 7769,
       "style": "IPY_MODEL_7c1666954c544509a74f9de8ee15555c",
       "value": 7769
      }
     },
     "a5896618c5d64ce29b1b1c7e7c962fc5": {
      "model_module": "@jupyter-widgets/controls",
      "model_module_version": "1.2.0",
      "model_name": "DescriptionStyleModel",
      "state": {
       "description_width": ""
      }
     },
     "a72209e5ba0b4ed0a269be6400f63a4b": {
      "model_module": "@jupyter-widgets/controls",
      "model_module_version": "1.2.0",
      "model_name": "HTMLModel",
      "state": {
       "layout": "IPY_MODEL_3f8f4517464e4a63a0e6ccdc94a65186",
       "style": "IPY_MODEL_89300bd34846476487e9f86e52395b3a",
       "value": "[loss: 0.002, acc: 1.000] : 100% 7769/7769 [00:12&lt;00:00, 633.07it/s]"
      }
     },
     "a743ac25974843cca83d1ba8a63eb569": {
      "model_module": "@jupyter-widgets/base",
      "model_module_version": "1.0.0",
      "model_name": "LayoutModel",
      "state": {}
     },
     "a7c39776dd7c47368c42363ed0e9c354": {
      "model_module": "@jupyter-widgets/controls",
      "model_module_version": "1.2.0",
      "model_name": "HTMLModel",
      "state": {
       "layout": "IPY_MODEL_ee2791c068464d80a251ac03a6f76f47",
       "style": "IPY_MODEL_4bd634d8136849e392ae708d91e612e0",
       "value": "[loss: 0.001, acc: 1.000] : 100% 7769/7769 [00:12&lt;00:00, 598.86it/s]"
      }
     },
     "a8ce00e194f04982b6fdfe45675e6805": {
      "model_module": "@jupyter-widgets/controls",
      "model_module_version": "1.2.0",
      "model_name": "DescriptionStyleModel",
      "state": {
       "description_width": ""
      }
     },
     "aa478c8232bd490b8ecad3d3e0f9a0f6": {
      "model_module": "@jupyter-widgets/base",
      "model_module_version": "1.0.0",
      "model_name": "LayoutModel",
      "state": {}
     },
     "aa66e9bc3f7b44a59bc04f5c2cfe04ce": {
      "model_module": "@jupyter-widgets/controls",
      "model_module_version": "1.2.0",
      "model_name": "ProgressStyleModel",
      "state": {
       "description_width": ""
      }
     },
     "aab6239daa73426b854bf0f50e1e609a": {
      "model_module": "@jupyter-widgets/controls",
      "model_module_version": "1.2.0",
      "model_name": "DescriptionStyleModel",
      "state": {
       "description_width": ""
      }
     },
     "ab28bb646e8d4b22aabf3b2fbbd3e849": {
      "model_module": "@jupyter-widgets/base",
      "model_module_version": "1.0.0",
      "model_name": "LayoutModel",
      "state": {}
     },
     "ac656e5bdeb84705bb2add4e9d74df75": {
      "model_module": "@jupyter-widgets/base",
      "model_module_version": "1.0.0",
      "model_name": "LayoutModel",
      "state": {}
     },
     "ad2ba6539eef4fedb9aaff32593c4a6c": {
      "model_module": "@jupyter-widgets/base",
      "model_module_version": "1.0.0",
      "model_name": "LayoutModel",
      "state": {}
     },
     "ae637e02bc614787b440909c3f7200f7": {
      "model_module": "@jupyter-widgets/controls",
      "model_module_version": "1.2.0",
      "model_name": "DescriptionStyleModel",
      "state": {
       "description_width": ""
      }
     },
     "ae759590b5304267a7fc83392df95bec": {
      "model_module": "@jupyter-widgets/base",
      "model_module_version": "1.0.0",
      "model_name": "LayoutModel",
      "state": {}
     },
     "afd4f57365334f578e2893ff36091f35": {
      "model_module": "@jupyter-widgets/controls",
      "model_module_version": "1.2.0",
      "model_name": "IntProgressModel",
      "state": {
       "description": "Epoch 13",
       "layout": "IPY_MODEL_9113817285074c969fc8dcb58e87be10",
       "max": 7769,
       "style": "IPY_MODEL_89d1501bda1b4bfcb4ff150c74402440",
       "value": 7769
      }
     },
     "b131729fbfcb4528a8520a04708b6376": {
      "model_module": "@jupyter-widgets/base",
      "model_module_version": "1.0.0",
      "model_name": "LayoutModel",
      "state": {}
     },
     "b157cdd3fdf9481096a5c338f73f35c5": {
      "model_module": "@jupyter-widgets/controls",
      "model_module_version": "1.2.0",
      "model_name": "DescriptionStyleModel",
      "state": {
       "description_width": ""
      }
     },
     "b1a95e3e2be3491bbf487637043b5ea4": {
      "model_module": "@jupyter-widgets/base",
      "model_module_version": "1.0.0",
      "model_name": "LayoutModel",
      "state": {}
     },
     "b25b73a229c64388bbbfa64c1b06a5c0": {
      "model_module": "@jupyter-widgets/controls",
      "model_module_version": "1.2.0",
      "model_name": "DescriptionStyleModel",
      "state": {
       "description_width": ""
      }
     },
     "b27f1e9cfa1640b780a88a677c98a3be": {
      "model_module": "@jupyter-widgets/base",
      "model_module_version": "1.0.0",
      "model_name": "LayoutModel",
      "state": {}
     },
     "b2ab9cdb01db47c1a79a89f101d567e9": {
      "model_module": "@jupyter-widgets/controls",
      "model_module_version": "1.2.0",
      "model_name": "IntProgressModel",
      "state": {
       "description": "Epoch 3",
       "layout": "IPY_MODEL_e460d2a8f3934bf193250ddc48a90159",
       "max": 7769,
       "style": "IPY_MODEL_1a041714cacf453bb3a6dfd1c063dc08",
       "value": 7769
      }
     },
     "b30811eee99c4db793f0d123a92f4a3d": {
      "model_module": "@jupyter-widgets/base",
      "model_module_version": "1.0.0",
      "model_name": "LayoutModel",
      "state": {}
     },
     "b338fe6b649c4877ba69744b631a5809": {
      "model_module": "@jupyter-widgets/controls",
      "model_module_version": "1.2.0",
      "model_name": "IntProgressModel",
      "state": {
       "description": "Epoch 19",
       "layout": "IPY_MODEL_7ae53e48f8d64790bbb3b680592f60a9",
       "max": 7769,
       "style": "IPY_MODEL_f35e522b11564231a963d9ba61f4e85d",
       "value": 7769
      }
     },
     "b460720a659a411694d29b4c59eee8ea": {
      "model_module": "@jupyter-widgets/controls",
      "model_module_version": "1.2.0",
      "model_name": "DescriptionStyleModel",
      "state": {
       "description_width": ""
      }
     },
     "b477f8253533400295c5fdb6110c5c24": {
      "model_module": "@jupyter-widgets/base",
      "model_module_version": "1.0.0",
      "model_name": "LayoutModel",
      "state": {}
     },
     "b4be9daa13cf4d67a5c6d5e0219280f4": {
      "model_module": "@jupyter-widgets/controls",
      "model_module_version": "1.2.0",
      "model_name": "HTMLModel",
      "state": {
       "layout": "IPY_MODEL_f795310204e348aebeea54143cedaaa2",
       "style": "IPY_MODEL_2c7f935d08b94df49c4e6d325643abd4",
       "value": "[loss: 0.001, acc: 1.000] : 100% 7769/7769 [00:12&lt;00:00, 629.02it/s]"
      }
     },
     "b4c3ac08687044349d8d66ed1b80c061": {
      "model_module": "@jupyter-widgets/controls",
      "model_module_version": "1.2.0",
      "model_name": "IntProgressModel",
      "state": {
       "description": "Epoch 38",
       "layout": "IPY_MODEL_0d07acf0ff8747eea7fc6858ce03f6f5",
       "max": 7769,
       "style": "IPY_MODEL_0a6791bc18cb41f395670df97e151f6f",
       "value": 7769
      }
     },
     "b81be3d142fa4e4593b5ae102698bcbe": {
      "model_module": "@jupyter-widgets/controls",
      "model_module_version": "1.2.0",
      "model_name": "DescriptionStyleModel",
      "state": {
       "description_width": ""
      }
     },
     "b835dd6a2b6843a28bba3fbce3cd4067": {
      "model_module": "@jupyter-widgets/controls",
      "model_module_version": "1.2.0",
      "model_name": "DescriptionStyleModel",
      "state": {
       "description_width": ""
      }
     },
     "b844dd65264746a2a9025009064393a3": {
      "model_module": "@jupyter-widgets/base",
      "model_module_version": "1.0.0",
      "model_name": "LayoutModel",
      "state": {}
     },
     "baf24443469442ac92d1037bbe694a99": {
      "model_module": "@jupyter-widgets/controls",
      "model_module_version": "1.2.0",
      "model_name": "DescriptionStyleModel",
      "state": {
       "description_width": ""
      }
     },
     "bbcc3c9292f54dfba069f5d7db5e22b9": {
      "model_module": "@jupyter-widgets/base",
      "model_module_version": "1.0.0",
      "model_name": "LayoutModel",
      "state": {}
     },
     "bbf53fa2ca1d42a696dadaeead266b6e": {
      "model_module": "@jupyter-widgets/controls",
      "model_module_version": "1.2.0",
      "model_name": "IntProgressModel",
      "state": {
       "description": "Epoch 12",
       "layout": "IPY_MODEL_8b51d80e200643a896142ded728f520b",
       "max": 7769,
       "style": "IPY_MODEL_aa66e9bc3f7b44a59bc04f5c2cfe04ce",
       "value": 7769
      }
     },
     "bdf826bee34047c995deab58fc6ae555": {
      "model_module": "@jupyter-widgets/base",
      "model_module_version": "1.0.0",
      "model_name": "LayoutModel",
      "state": {}
     },
     "bf396d857dcb4f62a3c87d64592f033a": {
      "model_module": "@jupyter-widgets/controls",
      "model_module_version": "1.2.0",
      "model_name": "ProgressStyleModel",
      "state": {
       "description_width": ""
      }
     },
     "c115912371ae4fb79bc8d1a11046d768": {
      "model_module": "@jupyter-widgets/controls",
      "model_module_version": "1.2.0",
      "model_name": "HTMLModel",
      "state": {
       "layout": "IPY_MODEL_f370073cb9e74b46a184cc1512793155",
       "style": "IPY_MODEL_f9a0c97c01184e448b7d581f57f85437",
       "value": "[loss: 0.001, acc: 1.000] : 100% 7769/7769 [00:12&lt;00:00, 610.16it/s]"
      }
     },
     "c14302a8ee4647adb49853d8a7c7b6e3": {
      "model_module": "@jupyter-widgets/controls",
      "model_module_version": "1.2.0",
      "model_name": "HTMLModel",
      "state": {
       "layout": "IPY_MODEL_6a7a4c590cea45eeae7ce5117c1cb3c8",
       "style": "IPY_MODEL_5b98d26ae9d14395a19cc3c7d0ac408d",
       "value": "[loss: 0.002, acc: 1.000] : 100% 7769/7769 [00:12&lt;00:00, 636.47it/s]"
      }
     },
     "c193aa9a88b34c25a3bf8bfe2d004dbe": {
      "model_module": "@jupyter-widgets/controls",
      "model_module_version": "1.2.0",
      "model_name": "ProgressStyleModel",
      "state": {
       "description_width": ""
      }
     },
     "c2a3237aaa3148beacb2e64f62050605": {
      "model_module": "@jupyter-widgets/base",
      "model_module_version": "1.0.0",
      "model_name": "LayoutModel",
      "state": {}
     },
     "c3c63e9354974b2fadac74d42e967f0f": {
      "model_module": "@jupyter-widgets/controls",
      "model_module_version": "1.2.0",
      "model_name": "IntProgressModel",
      "state": {
       "description": "Epoch 10",
       "layout": "IPY_MODEL_ab28bb646e8d4b22aabf3b2fbbd3e849",
       "max": 7769,
       "style": "IPY_MODEL_bf396d857dcb4f62a3c87d64592f033a",
       "value": 7769
      }
     },
     "c43e08f068914ec991c318124345d76f": {
      "model_module": "@jupyter-widgets/controls",
      "model_module_version": "1.2.0",
      "model_name": "IntProgressModel",
      "state": {
       "description": "Epoch 7",
       "layout": "IPY_MODEL_0a9bbf0175fb40ee8cade215efde1ec5",
       "max": 7769,
       "style": "IPY_MODEL_34a22d003ced46a0bd0282409dccb251",
       "value": 7769
      }
     },
     "c63c30f2d61c4d7985ae8eb18d5d9f4d": {
      "model_module": "@jupyter-widgets/base",
      "model_module_version": "1.0.0",
      "model_name": "LayoutModel",
      "state": {}
     },
     "c8a26abfa87c432d9bf6795bd6c94e1d": {
      "model_module": "@jupyter-widgets/base",
      "model_module_version": "1.0.0",
      "model_name": "LayoutModel",
      "state": {}
     },
     "c8f989a6651049f795f8afd0914822b2": {
      "model_module": "@jupyter-widgets/base",
      "model_module_version": "1.0.0",
      "model_name": "LayoutModel",
      "state": {}
     },
     "c99c117d8d4a413080911031a7243fad": {
      "model_module": "@jupyter-widgets/base",
      "model_module_version": "1.0.0",
      "model_name": "LayoutModel",
      "state": {}
     },
     "c9c337aec5ad4a91b1802a465512797e": {
      "model_module": "@jupyter-widgets/base",
      "model_module_version": "1.0.0",
      "model_name": "LayoutModel",
      "state": {}
     },
     "c9e0dd5cbd524f0b936aa6f3e5c0fc47": {
      "model_module": "@jupyter-widgets/base",
      "model_module_version": "1.0.0",
      "model_name": "LayoutModel",
      "state": {}
     },
     "ca52f3a311fa4503a4f1d5bf87a7efc4": {
      "model_module": "@jupyter-widgets/controls",
      "model_module_version": "1.2.0",
      "model_name": "ProgressStyleModel",
      "state": {
       "description_width": ""
      }
     },
     "ca63f53b50bf463e9817014cea83fa30": {
      "model_module": "@jupyter-widgets/base",
      "model_module_version": "1.0.0",
      "model_name": "LayoutModel",
      "state": {}
     },
     "cac4c78da90b4e8ea8b065fdbc3a01af": {
      "model_module": "@jupyter-widgets/base",
      "model_module_version": "1.0.0",
      "model_name": "LayoutModel",
      "state": {}
     },
     "cb0b19ce9cb241a0b7c27475a969cc95": {
      "model_module": "@jupyter-widgets/controls",
      "model_module_version": "1.2.0",
      "model_name": "DescriptionStyleModel",
      "state": {
       "description_width": ""
      }
     },
     "cbb3aa75fa8940d2a6f33b4409440adb": {
      "model_module": "@jupyter-widgets/controls",
      "model_module_version": "1.2.0",
      "model_name": "IntProgressModel",
      "state": {
       "description": "Epoch 4",
       "layout": "IPY_MODEL_908dc90518c1444fb112b96cc25e0a71",
       "max": 7769,
       "style": "IPY_MODEL_035ca924d4974d6b8665f66a86d32497",
       "value": 7769
      }
     },
     "cc3d82497da34b32b7a4aafcd268ee20": {
      "model_module": "@jupyter-widgets/base",
      "model_module_version": "1.0.0",
      "model_name": "LayoutModel",
      "state": {}
     },
     "ccb96f90388242cd86ebaa138690d954": {
      "model_module": "@jupyter-widgets/controls",
      "model_module_version": "1.2.0",
      "model_name": "IntProgressModel",
      "state": {
       "description": "Epoch 0",
       "layout": "IPY_MODEL_768e31aec74d4e5a91e6bac35f218700",
       "max": 7769,
       "style": "IPY_MODEL_3d1a59de0b994431ad4bf416781ed655",
       "value": 7769
      }
     },
     "cee5d9b887a9432cb43f2c4be05938db": {
      "model_module": "@jupyter-widgets/base",
      "model_module_version": "1.0.0",
      "model_name": "LayoutModel",
      "state": {}
     },
     "d15d6635fdea4895b5f8a8cc62bf8ca3": {
      "model_module": "@jupyter-widgets/base",
      "model_module_version": "1.0.0",
      "model_name": "LayoutModel",
      "state": {}
     },
     "d2e1aaee7598446ca5fe54c974792820": {
      "model_module": "@jupyter-widgets/controls",
      "model_module_version": "1.2.0",
      "model_name": "DescriptionStyleModel",
      "state": {
       "description_width": ""
      }
     },
     "d3a7acc4e4754169a244b22c5d6a0801": {
      "model_module": "@jupyter-widgets/base",
      "model_module_version": "1.0.0",
      "model_name": "LayoutModel",
      "state": {}
     },
     "d3c5326ae8e249c2ba19006bfda1ff51": {
      "model_module": "@jupyter-widgets/base",
      "model_module_version": "1.0.0",
      "model_name": "LayoutModel",
      "state": {}
     },
     "d70f35d5de8e419e86e85e8e17c52b9e": {
      "model_module": "@jupyter-widgets/controls",
      "model_module_version": "1.2.0",
      "model_name": "DescriptionStyleModel",
      "state": {
       "description_width": ""
      }
     },
     "d81461fd7c344d7e9620a14d0a6b63bc": {
      "model_module": "@jupyter-widgets/controls",
      "model_module_version": "1.2.0",
      "model_name": "ProgressStyleModel",
      "state": {
       "description_width": ""
      }
     },
     "d87c3100650b4b46a238ad56dedb3d31": {
      "model_module": "@jupyter-widgets/base",
      "model_module_version": "1.0.0",
      "model_name": "LayoutModel",
      "state": {}
     },
     "d8d0441fb9814aafaac57806fe9149b7": {
      "model_module": "@jupyter-widgets/controls",
      "model_module_version": "1.2.0",
      "model_name": "ProgressStyleModel",
      "state": {
       "description_width": ""
      }
     },
     "d90ce4b3babf4f60b5d1c1ad9e3c6187": {
      "model_module": "@jupyter-widgets/controls",
      "model_module_version": "1.2.0",
      "model_name": "IntProgressModel",
      "state": {
       "description": "Epoch 46",
       "layout": "IPY_MODEL_4327110a2cec4946b1a4e47e1d8b5ccb",
       "max": 7769,
       "style": "IPY_MODEL_725b6f26e735428d814d381b16231d36",
       "value": 7769
      }
     },
     "dd88abfaf7284576b4d576c3de788b8f": {
      "model_module": "@jupyter-widgets/controls",
      "model_module_version": "1.2.0",
      "model_name": "HTMLModel",
      "state": {
       "layout": "IPY_MODEL_d15d6635fdea4895b5f8a8cc62bf8ca3",
       "style": "IPY_MODEL_ae637e02bc614787b440909c3f7200f7",
       "value": "[loss: 0.002, acc: 0.999] : 100% 7769/7769 [00:12&lt;00:00, 596.31it/s]"
      }
     },
     "de5ba3fa2a5842f98632acb052c01cf5": {
      "model_module": "@jupyter-widgets/base",
      "model_module_version": "1.0.0",
      "model_name": "LayoutModel",
      "state": {}
     },
     "df46960317ed46ad9b77d32a1cae307b": {
      "model_module": "@jupyter-widgets/controls",
      "model_module_version": "1.2.0",
      "model_name": "ProgressStyleModel",
      "state": {
       "description_width": ""
      }
     },
     "dfb48fc893db400fb63b849badbc1f04": {
      "model_module": "@jupyter-widgets/controls",
      "model_module_version": "1.2.0",
      "model_name": "IntProgressModel",
      "state": {
       "description": "Epoch 24",
       "layout": "IPY_MODEL_d3c5326ae8e249c2ba19006bfda1ff51",
       "max": 7769,
       "style": "IPY_MODEL_90a6d65477b4499f9ba20c170f3751a1",
       "value": 7769
      }
     },
     "e02711fd25dc45e0bc1511726a14197f": {
      "model_module": "@jupyter-widgets/controls",
      "model_module_version": "1.2.0",
      "model_name": "IntProgressModel",
      "state": {
       "description": "Epoch 6",
       "layout": "IPY_MODEL_6863c4c42976432baf6b6304760b9ab9",
       "max": 7769,
       "style": "IPY_MODEL_c193aa9a88b34c25a3bf8bfe2d004dbe",
       "value": 7769
      }
     },
     "e0fd7fbccff64468ab0a8ad4b8a40751": {
      "model_module": "@jupyter-widgets/base",
      "model_module_version": "1.0.0",
      "model_name": "LayoutModel",
      "state": {}
     },
     "e114946699c34d68a7806d3232ec9cc5": {
      "model_module": "@jupyter-widgets/controls",
      "model_module_version": "1.2.0",
      "model_name": "HTMLModel",
      "state": {
       "layout": "IPY_MODEL_f4f8b58502044679b7401a5e3b23d835",
       "style": "IPY_MODEL_e3d77c04f9e0441aab6a4a298acae64a",
       "value": "[loss: 0.001, acc: 1.000] : 100% 7769/7769 [00:12&lt;00:00, 624.61it/s]"
      }
     },
     "e12fd604ae604c58870c12ba5f11a74d": {
      "model_module": "@jupyter-widgets/controls",
      "model_module_version": "1.2.0",
      "model_name": "HTMLModel",
      "state": {
       "layout": "IPY_MODEL_2dbae45ea9034f7e8c4ae75cd6a857d0",
       "style": "IPY_MODEL_61ce28744e1b49d6b143458dc8bcb194",
       "value": "[loss: 0.001, acc: 1.000] : 100% 7769/7769 [00:12&lt;00:00, 621.43it/s]"
      }
     },
     "e2c2a094211a42258dd62de362767c1a": {
      "model_module": "@jupyter-widgets/controls",
      "model_module_version": "1.2.0",
      "model_name": "IntProgressModel",
      "state": {
       "description": "Epoch 17",
       "layout": "IPY_MODEL_4a521c8f5275454b99985ec46ff1fa7a",
       "max": 7769,
       "style": "IPY_MODEL_df46960317ed46ad9b77d32a1cae307b",
       "value": 7769
      }
     },
     "e3d77c04f9e0441aab6a4a298acae64a": {
      "model_module": "@jupyter-widgets/controls",
      "model_module_version": "1.2.0",
      "model_name": "DescriptionStyleModel",
      "state": {
       "description_width": ""
      }
     },
     "e460d2a8f3934bf193250ddc48a90159": {
      "model_module": "@jupyter-widgets/base",
      "model_module_version": "1.0.0",
      "model_name": "LayoutModel",
      "state": {}
     },
     "e4e37e4c3c63436b9c6cdd6941d340e4": {
      "model_module": "@jupyter-widgets/controls",
      "model_module_version": "1.2.0",
      "model_name": "ProgressStyleModel",
      "state": {
       "description_width": ""
      }
     },
     "e58b4c7c4d5648aea9b045c11154004d": {
      "model_module": "@jupyter-widgets/controls",
      "model_module_version": "1.2.0",
      "model_name": "IntProgressModel",
      "state": {
       "description": "Epoch 29",
       "layout": "IPY_MODEL_216d45dd7201429da9223c801304c1bc",
       "max": 7769,
       "style": "IPY_MODEL_ca52f3a311fa4503a4f1d5bf87a7efc4",
       "value": 7769
      }
     },
     "e5dc2483aa7c43f98c318cff794b43ef": {
      "model_module": "@jupyter-widgets/controls",
      "model_module_version": "1.2.0",
      "model_name": "DescriptionStyleModel",
      "state": {
       "description_width": ""
      }
     },
     "e6ba9649f1e2461db6ecb0f885144866": {
      "model_module": "@jupyter-widgets/base",
      "model_module_version": "1.0.0",
      "model_name": "LayoutModel",
      "state": {}
     },
     "e8befde6c2a24cf785966d9131db92df": {
      "model_module": "@jupyter-widgets/base",
      "model_module_version": "1.0.0",
      "model_name": "LayoutModel",
      "state": {}
     },
     "e9c6cf84cf404853be5b5cfa9d94281e": {
      "model_module": "@jupyter-widgets/controls",
      "model_module_version": "1.2.0",
      "model_name": "ProgressStyleModel",
      "state": {
       "description_width": ""
      }
     },
     "ea3a3286889045e889d2110ee3ae5cc1": {
      "model_module": "@jupyter-widgets/base",
      "model_module_version": "1.0.0",
      "model_name": "LayoutModel",
      "state": {}
     },
     "eaab5085bae74398b003d3b0e36852fd": {
      "model_module": "@jupyter-widgets/base",
      "model_module_version": "1.0.0",
      "model_name": "LayoutModel",
      "state": {}
     },
     "ec0da04a2b5f4a968d0f26f299c8014a": {
      "model_module": "@jupyter-widgets/base",
      "model_module_version": "1.0.0",
      "model_name": "LayoutModel",
      "state": {}
     },
     "ecc5a0ea2fb34c3ebca96551e7b576cc": {
      "model_module": "@jupyter-widgets/base",
      "model_module_version": "1.0.0",
      "model_name": "LayoutModel",
      "state": {}
     },
     "ee0d1ac839e94e72aaaa1f7718c96df4": {
      "model_module": "@jupyter-widgets/controls",
      "model_module_version": "1.2.0",
      "model_name": "ProgressStyleModel",
      "state": {
       "description_width": ""
      }
     },
     "ee2791c068464d80a251ac03a6f76f47": {
      "model_module": "@jupyter-widgets/base",
      "model_module_version": "1.0.0",
      "model_name": "LayoutModel",
      "state": {}
     },
     "ef18c669e7594ab4a16bd8b8bb7f1f3a": {
      "model_module": "@jupyter-widgets/controls",
      "model_module_version": "1.2.0",
      "model_name": "HTMLModel",
      "state": {
       "layout": "IPY_MODEL_75d17aac70f14c5e8638403eda885c99",
       "style": "IPY_MODEL_1195de4fa7994e17a77a471e6ad6550e",
       "value": "[loss: 0.001, acc: 1.000] : 100% 7769/7769 [00:12&lt;00:00, 615.26it/s]"
      }
     },
     "ef970a4686d147128a2c4d523c80752a": {
      "model_module": "@jupyter-widgets/controls",
      "model_module_version": "1.2.0",
      "model_name": "ProgressStyleModel",
      "state": {
       "description_width": ""
      }
     },
     "f0f01b4046da4b19ba90175b96877aeb": {
      "model_module": "@jupyter-widgets/controls",
      "model_module_version": "1.2.0",
      "model_name": "HTMLModel",
      "state": {
       "layout": "IPY_MODEL_2b234022f35146bb9c2ad4df675aaa9a",
       "style": "IPY_MODEL_b460720a659a411694d29b4c59eee8ea",
       "value": "[loss: 0.002, acc: 1.000] : 100% 7769/7769 [00:12&lt;00:00, 606.02it/s]"
      }
     },
     "f21eab9d03834887a0d91e6804edfe3a": {
      "model_module": "@jupyter-widgets/controls",
      "model_module_version": "1.2.0",
      "model_name": "ProgressStyleModel",
      "state": {
       "description_width": ""
      }
     },
     "f35e522b11564231a963d9ba61f4e85d": {
      "model_module": "@jupyter-widgets/controls",
      "model_module_version": "1.2.0",
      "model_name": "ProgressStyleModel",
      "state": {
       "description_width": ""
      }
     },
     "f370073cb9e74b46a184cc1512793155": {
      "model_module": "@jupyter-widgets/base",
      "model_module_version": "1.0.0",
      "model_name": "LayoutModel",
      "state": {}
     },
     "f3820cb804b847eb9e46d94e2d9e8150": {
      "model_module": "@jupyter-widgets/controls",
      "model_module_version": "1.2.0",
      "model_name": "IntProgressModel",
      "state": {
       "description": "Epoch 22",
       "layout": "IPY_MODEL_5f1ddfe248794bd1bc589a2609d5bf4b",
       "max": 7769,
       "style": "IPY_MODEL_68bc88dde60a418bb954ff4d49f85226",
       "value": 7769
      }
     },
     "f3b78038f13343aab7df564767109da6": {
      "model_module": "@jupyter-widgets/controls",
      "model_module_version": "1.2.0",
      "model_name": "ProgressStyleModel",
      "state": {
       "description_width": ""
      }
     },
     "f42a87caa25742afb95c8007935777b7": {
      "model_module": "@jupyter-widgets/controls",
      "model_module_version": "1.2.0",
      "model_name": "HTMLModel",
      "state": {
       "layout": "IPY_MODEL_ca63f53b50bf463e9817014cea83fa30",
       "style": "IPY_MODEL_136db54c3e584afb823a95ba1abad659",
       "value": "[loss: 0.001, acc: 1.000] : 100% 7769/7769 [00:12&lt;00:00, 628.99it/s]"
      }
     },
     "f4384f63b52d4c62b13825a6c796ec89": {
      "model_module": "@jupyter-widgets/controls",
      "model_module_version": "1.2.0",
      "model_name": "DescriptionStyleModel",
      "state": {
       "description_width": ""
      }
     },
     "f4b7691f138342a3a746cce9ff8fc1b7": {
      "model_module": "@jupyter-widgets/controls",
      "model_module_version": "1.2.0",
      "model_name": "HTMLModel",
      "state": {
       "layout": "IPY_MODEL_ad2ba6539eef4fedb9aaff32593c4a6c",
       "style": "IPY_MODEL_5f2e35ed047144cdac000f4e1b8a58b4",
       "value": "[loss: 0.036, acc: 0.991] : 100% 7769/7769 [00:14&lt;00:00, 652.13it/s]"
      }
     },
     "f4e68f75d2374d94952162385d78246f": {
      "model_module": "@jupyter-widgets/base",
      "model_module_version": "1.0.0",
      "model_name": "LayoutModel",
      "state": {}
     },
     "f4f8b58502044679b7401a5e3b23d835": {
      "model_module": "@jupyter-widgets/base",
      "model_module_version": "1.0.0",
      "model_name": "LayoutModel",
      "state": {}
     },
     "f60e984a346f4c1c98a49ae224081436": {
      "model_module": "@jupyter-widgets/controls",
      "model_module_version": "1.2.0",
      "model_name": "HTMLModel",
      "state": {
       "layout": "IPY_MODEL_fd6688c740cc4f24a7389d18a33073e5",
       "style": "IPY_MODEL_b25b73a229c64388bbbfa64c1b06a5c0",
       "value": "[loss: 0.001, acc: 1.000] : 100% 7769/7769 [00:12&lt;00:00, 637.10it/s]"
      }
     },
     "f635ee0912ff45289bc94fa66e2303c4": {
      "model_module": "@jupyter-widgets/base",
      "model_module_version": "1.0.0",
      "model_name": "LayoutModel",
      "state": {}
     },
     "f636a15f0da04e999283595d591fba85": {
      "model_module": "@jupyter-widgets/controls",
      "model_module_version": "1.2.0",
      "model_name": "IntProgressModel",
      "state": {
       "description": "Epoch 45",
       "layout": "IPY_MODEL_de5ba3fa2a5842f98632acb052c01cf5",
       "max": 7769,
       "style": "IPY_MODEL_ee0d1ac839e94e72aaaa1f7718c96df4",
       "value": 7769
      }
     },
     "f6c356b129fd443aa828040a10ef4433": {
      "model_module": "@jupyter-widgets/base",
      "model_module_version": "1.0.0",
      "model_name": "LayoutModel",
      "state": {}
     },
     "f6e0f1e05b7c460e912746027d75680c": {
      "model_module": "@jupyter-widgets/base",
      "model_module_version": "1.0.0",
      "model_name": "LayoutModel",
      "state": {}
     },
     "f760e92a62454ce58f138f7b4b643b8e": {
      "model_module": "@jupyter-widgets/controls",
      "model_module_version": "1.2.0",
      "model_name": "HTMLModel",
      "state": {
       "layout": "IPY_MODEL_0b0242125df64612825b2584cd560fe0",
       "style": "IPY_MODEL_424903b55f2244dd859b4de9fa991d8e",
       "value": "[loss: 0.004, acc: 0.999] : 100% 7769/7769 [00:12&lt;00:00, 614.98it/s]"
      }
     },
     "f76be2489827423483b8011336a4f3be": {
      "model_module": "@jupyter-widgets/controls",
      "model_module_version": "1.2.0",
      "model_name": "HTMLModel",
      "state": {
       "layout": "IPY_MODEL_c99c117d8d4a413080911031a7243fad",
       "style": "IPY_MODEL_1b0b7adb2015428a868fc2bb19301d0d",
       "value": "[loss: 0.002, acc: 0.999] : 100% 7769/7769 [00:12&lt;00:00, 621.52it/s]"
      }
     },
     "f782aa8e2d27498fb517801a5f42a7d9": {
      "model_module": "@jupyter-widgets/controls",
      "model_module_version": "1.2.0",
      "model_name": "DescriptionStyleModel",
      "state": {
       "description_width": ""
      }
     },
     "f795310204e348aebeea54143cedaaa2": {
      "model_module": "@jupyter-widgets/base",
      "model_module_version": "1.0.0",
      "model_name": "LayoutModel",
      "state": {}
     },
     "f814bcdf5a71491ebe076dd53a985774": {
      "model_module": "@jupyter-widgets/base",
      "model_module_version": "1.0.0",
      "model_name": "LayoutModel",
      "state": {}
     },
     "f8f8038e41a74a728ce5826d769541f7": {
      "model_module": "@jupyter-widgets/base",
      "model_module_version": "1.0.0",
      "model_name": "LayoutModel",
      "state": {}
     },
     "f9a0c97c01184e448b7d581f57f85437": {
      "model_module": "@jupyter-widgets/controls",
      "model_module_version": "1.2.0",
      "model_name": "DescriptionStyleModel",
      "state": {
       "description_width": ""
      }
     },
     "fa9bdda97d5446528d5f5affd84ae0b9": {
      "model_module": "@jupyter-widgets/controls",
      "model_module_version": "1.2.0",
      "model_name": "ProgressStyleModel",
      "state": {
       "description_width": ""
      }
     },
     "fae333b7447747c3bbe9547af0eb1c09": {
      "model_module": "@jupyter-widgets/base",
      "model_module_version": "1.0.0",
      "model_name": "LayoutModel",
      "state": {}
     },
     "faf8ee981da74fcdabed99c42244226f": {
      "model_module": "@jupyter-widgets/base",
      "model_module_version": "1.0.0",
      "model_name": "LayoutModel",
      "state": {}
     },
     "fd6688c740cc4f24a7389d18a33073e5": {
      "model_module": "@jupyter-widgets/base",
      "model_module_version": "1.0.0",
      "model_name": "LayoutModel",
      "state": {}
     },
     "ff4239f984fc4a2db9838a342626f772": {
      "model_module": "@jupyter-widgets/base",
      "model_module_version": "1.0.0",
      "model_name": "LayoutModel",
      "state": {}
     }
    },
    "version_major": 2,
    "version_minor": 0
   }
  }
 },
 "nbformat": 4,
 "nbformat_minor": 2
}
