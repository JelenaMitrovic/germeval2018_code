{
 "cells": [
  {
   "cell_type": "code",
   "execution_count": 1,
   "metadata": {},
   "outputs": [],
   "source": [
    "%matplotlib notebook\n",
    "import warnings\n",
    "import numpy as np\n",
    "\n",
    "# Prevents warnings during cross-validation\n",
    "warnings.filterwarnings(\"ignore\")\n",
    "\n",
    "# Number of folds during cross-validation\n",
    "k = 7\n",
    "\n",
    "# Number of parallel computations (n_jobs parameter); -1 for utilizing the entire cpu\n",
    "jobs = -1\n",
    "\n",
    "# Pseudo-random number generator seed, for reproduceable results\n",
    "seed = 42"
   ]
  },
  {
   "cell_type": "code",
   "execution_count": 2,
   "metadata": {},
   "outputs": [],
   "source": [
    "import pandas as pd\n",
    "import codecs\n",
    "from tqdm import tqdm\n",
    "\n",
    "def load_dataset(path):\n",
    "    dataset = pd.DataFrame(columns=['X', 'y1', 'y2'])\n",
    "    #print('Loading dataset...')\n",
    "    with codecs.open(path, \"r\", encoding='utf-8', errors='ignore') as fdata:\n",
    "        for line in tqdm(fdata.readlines()):\n",
    "            line_split = line.split()\n",
    "            formated = ' '.join(line_split[:-3])\n",
    "            dataset.loc[-1] = [formated, line_split[-2], line_split[-1]]  # adding a row\n",
    "            dataset.index = dataset.index + 1  # shifting index\n",
    "            dataset = dataset.sort_index()  # sorting by index\n",
    "    return dataset"
   ]
  },
  {
   "cell_type": "code",
   "execution_count": 3,
   "metadata": {},
   "outputs": [],
   "source": [
    "import pandas as pd\n",
    "\n",
    "def load_dataset_ext(path):\n",
    "    dataset = pd.DataFrame(columns=['X', 'y1', 'y2', 'rating'])\n",
    "    with codecs.open(path, \"r\", encoding='utf-8', errors='ignore') as fdata:\n",
    "        for line in tqdm(fdata.readlines()):\n",
    "            line = line.strip()\n",
    "            line_split = line.split(';')\n",
    "            formated = ' '.join(line_split[:-3])\n",
    "            dataset.loc[-1] = [formated, line_split[-3], line_split[-2], line_split[-1]]  # adding a row\n",
    "            dataset.index = dataset.index + 1  # shifting index\n",
    "            dataset = dataset.sort_index()  # sorting by index\n",
    "    return dataset.drop(dataset.index[[-1]])"
   ]
  },
  {
   "cell_type": "code",
   "execution_count": 4,
   "metadata": {},
   "outputs": [],
   "source": [
    "# dataset = load_dataset(path = '/home/text_mining_project/text_mining_project_2018/evaluation/germeval2018.training.txt')"
   ]
  },
  {
   "cell_type": "code",
   "execution_count": 5,
   "metadata": {},
   "outputs": [
    {
     "name": "stderr",
     "output_type": "stream",
     "text": [
      "100%|██████████| 470/470 [00:01<00:00, 310.43it/s]\n"
     ]
    }
   ],
   "source": [
    "dataset_ext = load_dataset_ext('/home/text_mining_project/text_mining_project_2018/evaluation/german_hatespeech_refugees.csv')"
   ]
  },
  {
   "cell_type": "code",
   "execution_count": 6,
   "metadata": {},
   "outputs": [],
   "source": [
    "from sklearn.model_selection import train_test_split\n",
    "X = dataset_ext['X'].values\n",
    "\n",
    "def encode_label_bin(y, predicted_label):\n",
    "    choose = lambda l : True if l == predicted_label else False\n",
    "    return [choose(l) for l in y]\n",
    "\n",
    "y1 = np.array(encode_label_bin(dataset_ext['y1'], 'YES'))\n",
    "y2 = np.array(encode_label_bin(dataset_ext['y2'], 'YES'))\n",
    "\n",
    "y = (y1 | y2)*1\n",
    "\n",
    "X_train, X_test, y_train, y_test = train_test_split(X, y, test_size=0.1, random_state=23)"
   ]
  },
  {
   "cell_type": "code",
   "execution_count": 7,
   "metadata": {},
   "outputs": [],
   "source": [
    "from nltk.tokenize import TweetTokenizer\n",
    "from nltk.stem import SnowballStemmer\n",
    "from nltk.corpus import stopwords\n",
    "import re\n",
    "\n",
    "stopwords_german = set(stopwords.words('german'))\n",
    "\n",
    "usernamePattern = re.compile('@[A-Za-z0-9_]{1,15}')\n",
    "urlPattern = re.compile('(https?:\\/\\/)[\\/.:\\w(1-9)]*\\s?')\n",
    "andPattern = re.compile('&amp;')\n",
    "lbrPattern = re.compile('|LBR|')\n",
    "gtPattern = re.compile('&gt;')\n",
    "ltPattern = re.compile('&lt;')\n",
    "minusPattern = re.compile('-')\n",
    "stemmer = SnowballStemmer(\"german\")\n",
    "tkz = TweetTokenizer(preserve_case=False, reduce_len=True, strip_handles=True)\n",
    "\n",
    "def tokenize(text):\n",
    "    text = re.sub(usernamePattern, \"\",  text)\n",
    "    text = re.sub(urlPattern, \"\",  text)\n",
    "    text = re.sub(andPattern, \"und\", text)\n",
    "    text = re.sub(lbrPattern, \"\",  text)\n",
    "    text = re.sub(gtPattern, \">\", text)\n",
    "    text = re.sub(ltPattern, \"<\", text)\n",
    "    text = re.sub(minusPattern, ' ', text)\n",
    "    output = []\n",
    "    tokens = tkz.tokenize(text)\n",
    "    for token in tokens:\n",
    "        #if token not in stopwords_german:\n",
    "        if len(token) > 1:\n",
    "            if token[0] == '#':\n",
    "                token = token[1:]\n",
    "            # output.append(stemmer.stem(token))\n",
    "            output.append(token)\n",
    "    return output"
   ]
  },
  {
   "cell_type": "code",
   "execution_count": 8,
   "metadata": {},
   "outputs": [
    {
     "name": "stdout",
     "output_type": "stream",
     "text": [
      "Transforming documents...\n",
      "Transformation finished!\n"
     ]
    }
   ],
   "source": [
    "from sklearn.feature_extraction.text import TfidfVectorizer\n",
    "\n",
    "max_features = None\n",
    "stopwords_german = set(stopwords.words('german'))\n",
    "tfidf = TfidfVectorizer(tokenizer=tokenize, stop_words=stopwords_german, max_features=max_features, ngram_range=(1,3))\n",
    "print('Transforming documents...')\n",
    "X_train = tfidf.fit_transform(X_train)\n",
    "X_test = tfidf.transform(X_test)\n",
    "print('Transformation finished!')"
   ]
  },
  {
   "cell_type": "code",
   "execution_count": 9,
   "metadata": {},
   "outputs": [],
   "source": [
    "from sklearn.preprocessing import LabelEncoder\n",
    "\n",
    "def encode_label(y):\n",
    "    np.ones(len(y))\n",
    "    choose = lambda l : 1 if l == 'OFFENSE' else 0\n",
    "    return [choose(l) for l in y]"
   ]
  },
  {
   "cell_type": "code",
   "execution_count": 10,
   "metadata": {},
   "outputs": [
    {
     "name": "stdout",
     "output_type": "stream",
     "text": [
      "Searching best estimator (F1 score) ...\n",
      "\n",
      "Mean F1 score Linear SVM: 0.139 (+/- 0.247)\n",
      "Mean F1 score SGDClassifier: 0.213 (+/- 0.266)\n",
      "Mean F1 score BernoulliNB: 0.000 (+/- 0.000)\n",
      "Mean F1 score LogisticRegression: 0.000 (+/- 0.000)\n",
      "Mean F1 score KNeighborsClassifier: 0.353 (+/- 0.177)\n",
      "Mean F1 score AdaBoostClassifier: 0.542 (+/- 0.153)\n",
      "Mean F1 score Random Forest: 0.088 (+/- 0.180)\n",
      "Mean F1 score Decision Tree: 0.550 (+/- 0.099)\n",
      "\n",
      "Best estimator: Decision Tree (mean F1 score 0.550, 7-fold cross-validation)\n"
     ]
    }
   ],
   "source": [
    "from sklearn.svm import LinearSVC\n",
    "from sklearn.linear_model import LogisticRegression\n",
    "from sklearn.naive_bayes import BernoulliNB\n",
    "from sklearn.neighbors import KNeighborsClassifier\n",
    "from sklearn.ensemble import RandomForestClassifier,AdaBoostClassifier\n",
    "from sklearn.tree import DecisionTreeClassifier\n",
    "from sklearn.linear_model import  SGDClassifier\n",
    "from sklearn.metrics import f1_score\n",
    "from sklearn.metrics import make_scorer\n",
    "\n",
    "from sklearn.model_selection import cross_val_score\n",
    "\n",
    "\n",
    "names = [\"Linear SVM\", \"SGDClassifier\", \"BernoulliNB\", \"LogisticRegression\",\n",
    "         \"KNeighborsClassifier\", \"AdaBoostClassifier\", \"Random Forest\", \"Decision Tree\"]\n",
    "\n",
    "classifiers = [\n",
    "    LinearSVC(random_state=seed),\n",
    "    SGDClassifier(),\n",
    "    BernoulliNB(),\n",
    "    LogisticRegression(random_state=seed, solver='sag', max_iter=1000),\n",
    "    KNeighborsClassifier(),\n",
    "    AdaBoostClassifier(),\n",
    "    RandomForestClassifier(random_state=seed),\n",
    "    DecisionTreeClassifier(random_state=seed)\n",
    "]\n",
    "\n",
    "print('Searching best estimator (F1 score) ...')\n",
    "print()\n",
    "best_classifier = None\n",
    "for name, clf in zip(names, classifiers):\n",
    "    scores = cross_val_score(clf, X_train, y_train, cv=k, n_jobs=jobs, scoring='f1')\n",
    "    print('Mean F1 score %s: %0.3f (+/- %0.3f)' % (name, scores.mean(), scores.std() * 2))\n",
    "    if not best_classifier:\n",
    "        best_classifier = (name, scores.mean())\n",
    "    else:\n",
    "        if best_classifier[1] < scores.mean():\n",
    "            best_classifier = (name, scores.mean())\n",
    "print()\n",
    "print('Best estimator: %s (mean F1 score %0.3f, %d-fold cross-validation)' % (best_classifier[0], best_classifier[1], k))"
   ]
  },
  {
   "cell_type": "code",
   "execution_count": 15,
   "metadata": {},
   "outputs": [
    {
     "name": "stdout",
     "output_type": "stream",
     "text": [
      "F1-Score predictions:  0.5185185185185185\n"
     ]
    }
   ],
   "source": [
    "from sklearn.linear_model import  SGDClassifier\n",
    "clf = SGDClassifier()\n",
    "clf.fit(X_train, y_train)\n",
    "predictions=clf.predict(X_test)\n",
    "from sklearn.metrics import f1_score\n",
    "f1=f1_score(predictions, y_test)\n",
    "print(\"F1-Score predictions: \", f1)"
   ]
  },
  {
   "cell_type": "code",
   "execution_count": 14,
   "metadata": {},
   "outputs": [
    {
     "name": "stdout",
     "output_type": "stream",
     "text": [
      "F1-Score predictions SGDClassifier:  0.30769230769230765\n"
     ]
    }
   ],
   "source": [
    "from sklearn.linear_model import  SGDClassifier\n",
    "clf = DecisionTreeClassifier()\n",
    "clf.fit(X_train, y_train)\n",
    "predictions=clf.predict(X_test)\n",
    "from sklearn.metrics import f1_score\n",
    "f1=f1_score(predictions, y_test)\n",
    "print(\"F1-Score predictions: \", f1)"
   ]
  },
  {
   "cell_type": "code",
   "execution_count": 22,
   "metadata": {},
   "outputs": [
    {
     "name": "stdout",
     "output_type": "stream",
     "text": [
      "F1-Score predictions:  0.32\n"
     ]
    }
   ],
   "source": [
    "from sklearn.linear_model import  SGDClassifier\n",
    "clf = AdaBoostClassifier()\n",
    "clf.fit(X_train, y_train)\n",
    "predictions=clf.predict(X_test)\n",
    "from sklearn.metrics import f1_score\n",
    "f1=f1_score(predictions, y_test)\n",
    "print(\"F1-Score predictions: \", f1)"
   ]
  },
  {
   "cell_type": "markdown",
   "metadata": {},
   "source": [
    "## Feature Selection"
   ]
  },
  {
   "cell_type": "code",
   "execution_count": 16,
   "metadata": {},
   "outputs": [],
   "source": [
    "from sklearn.svm import LinearSVC\n",
    "from sklearn.feature_selection import SelectFromModel\n",
    "\n",
    "lsvc = LinearSVC(penalty=\"l1\", dual=False).fit(X_train, y_train)\n",
    "model = SelectFromModel(lsvc, prefit=True)\n",
    "X_train = model.transform(X_train)\n",
    "X_test = model.transform(X_test)"
   ]
  },
  {
   "cell_type": "code",
   "execution_count": 17,
   "metadata": {},
   "outputs": [
    {
     "name": "stdout",
     "output_type": "stream",
     "text": [
      "Searching best estimator (F1 score) ...\n",
      "\n",
      "Mean F1 score Linear SVM: 0.428 (+/- 0.216)\n",
      "Mean F1 score SGDClassifier: 0.647 (+/- 0.162)\n",
      "Mean F1 score BernoulliNB: 0.680 (+/- 0.140)\n",
      "Mean F1 score LogisticRegression: 0.000 (+/- 0.000)\n",
      "Mean F1 score KNeighborsClassifier: 0.549 (+/- 0.202)\n",
      "Mean F1 score AdaBoostClassifier: 0.614 (+/- 0.110)\n",
      "Mean F1 score Random Forest: 0.562 (+/- 0.131)\n",
      "Mean F1 score Decision Tree: 0.601 (+/- 0.105)\n",
      "\n",
      "Best estimator: BernoulliNB (mean F1 score 0.680, 7-fold cross-validation)\n"
     ]
    }
   ],
   "source": [
    "from sklearn.svm import LinearSVC\n",
    "from sklearn.linear_model import LogisticRegression\n",
    "from sklearn.naive_bayes import BernoulliNB\n",
    "from sklearn.neighbors import KNeighborsClassifier\n",
    "from sklearn.ensemble import RandomForestClassifier,AdaBoostClassifier\n",
    "from sklearn.tree import DecisionTreeClassifier\n",
    "from sklearn.linear_model import  SGDClassifier\n",
    "from sklearn.metrics import f1_score\n",
    "from sklearn.metrics import make_scorer\n",
    "\n",
    "from sklearn.model_selection import cross_val_score\n",
    "\n",
    "\n",
    "names = [\"Linear SVM\", \"SGDClassifier\", \"BernoulliNB\", \"LogisticRegression\",\n",
    "         \"KNeighborsClassifier\", \"AdaBoostClassifier\", \"Random Forest\", \"Decision Tree\"]\n",
    "\n",
    "classifiers = [\n",
    "    LinearSVC(random_state=seed),\n",
    "    SGDClassifier(),\n",
    "    BernoulliNB(),\n",
    "    LogisticRegression(random_state=seed, solver='sag', max_iter=1000),\n",
    "    KNeighborsClassifier(),\n",
    "    AdaBoostClassifier(),\n",
    "    RandomForestClassifier(random_state=seed),\n",
    "    DecisionTreeClassifier(random_state=seed)\n",
    "]\n",
    "\n",
    "print('Searching best estimator (F1 score) ...')\n",
    "print()\n",
    "best_classifier = None\n",
    "for name, clf in zip(names, classifiers):\n",
    "    scores = cross_val_score(clf, X_train, y_train, cv=k, n_jobs=jobs, scoring='f1')\n",
    "    print('Mean F1 score %s: %0.3f (+/- %0.3f)' % (name, scores.mean(), scores.std() * 2))\n",
    "    if not best_classifier:\n",
    "        best_classifier = (name, scores.mean())\n",
    "    else:\n",
    "        if best_classifier[1] < scores.mean():\n",
    "            best_classifier = (name, scores.mean())\n",
    "print()\n",
    "print('Best estimator: %s (mean F1 score %0.3f, %d-fold cross-validation)' % (best_classifier[0], best_classifier[1], k))"
   ]
  },
  {
   "cell_type": "code",
   "execution_count": 18,
   "metadata": {},
   "outputs": [
    {
     "name": "stdout",
     "output_type": "stream",
     "text": [
      "F1-Score predictions:  0.4\n"
     ]
    }
   ],
   "source": [
    "from sklearn.linear_model import  SGDClassifier\n",
    "clf = SGDClassifier()\n",
    "clf.fit(X_train, y_train)\n",
    "predictions=clf.predict(X_test)\n",
    "from sklearn.metrics import f1_score\n",
    "f1=f1_score(predictions, y_test)\n",
    "print(\"F1-Score predictions: \", f1)"
   ]
  },
  {
   "cell_type": "code",
   "execution_count": 19,
   "metadata": {},
   "outputs": [
    {
     "name": "stdout",
     "output_type": "stream",
     "text": [
      "F1-Score predictions:  0.3448275862068966\n"
     ]
    }
   ],
   "source": [
    "from sklearn.linear_model import  SGDClassifier\n",
    "clf = DecisionTreeClassifier()\n",
    "clf.fit(X_train, y_train)\n",
    "predictions=clf.predict(X_test)\n",
    "from sklearn.metrics import f1_score\n",
    "f1=f1_score(predictions, y_test)\n",
    "print(\"F1-Score predictions: \", f1)"
   ]
  },
  {
   "cell_type": "code",
   "execution_count": 20,
   "metadata": {},
   "outputs": [
    {
     "name": "stdout",
     "output_type": "stream",
     "text": [
      "F1-Score predictions:  0.3333333333333333\n"
     ]
    }
   ],
   "source": [
    "from sklearn.linear_model import  SGDClassifier\n",
    "clf = BernoulliNB()\n",
    "clf.fit(X_train, y_train)\n",
    "predictions=clf.predict(X_test)\n",
    "from sklearn.metrics import f1_score\n",
    "f1=f1_score(predictions, y_test)\n",
    "print(\"F1-Score predictions: \", f1)"
   ]
  },
  {
   "cell_type": "code",
   "execution_count": 21,
   "metadata": {},
   "outputs": [
    {
     "name": "stdout",
     "output_type": "stream",
     "text": [
      "F1-Score predictions:  0.32\n"
     ]
    }
   ],
   "source": [
    "from sklearn.linear_model import  SGDClassifier\n",
    "clf = AdaBoostClassifier()\n",
    "clf.fit(X_train, y_train)\n",
    "predictions=clf.predict(X_test)\n",
    "from sklearn.metrics import f1_score\n",
    "f1=f1_score(predictions, y_test)\n",
    "print(\"F1-Score predictions: \", f1)"
   ]
  }
 ],
 "metadata": {
  "kernelspec": {
   "display_name": "Python 3",
   "language": "python",
   "name": "python3"
  },
  "language_info": {
   "codemirror_mode": {
    "name": "ipython",
    "version": 3
   },
   "file_extension": ".py",
   "mimetype": "text/x-python",
   "name": "python",
   "nbconvert_exporter": "python",
   "pygments_lexer": "ipython3",
   "version": "3.5.2"
  }
 },
 "nbformat": 4,
 "nbformat_minor": 2
}
